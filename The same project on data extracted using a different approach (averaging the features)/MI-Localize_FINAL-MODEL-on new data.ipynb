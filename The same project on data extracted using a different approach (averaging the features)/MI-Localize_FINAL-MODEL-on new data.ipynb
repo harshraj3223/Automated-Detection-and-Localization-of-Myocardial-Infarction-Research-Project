{
  "nbformat": 4,
  "nbformat_minor": 0,
  "metadata": {
    "colab": {
      "name": "MI_Localize_FINAL-MODEL.ipynb",
      "provenance": [],
      "collapsed_sections": []
    },
    "kernelspec": {
      "name": "python3",
      "display_name": "Python 3"
    },
    "language_info": {
      "name": "python"
    },
    "accelerator": "GPU"
  },
  "cells": [
    {
      "cell_type": "code",
      "metadata": {
        "id": "djv-n0MJih6I"
      },
      "source": [
        "# This notebook takes the train and test NumPy files from the saved location, train a model on the training data, and calculate the overall\n",
        "# and class-wise accuracies of the model."
      ],
      "execution_count": 1,
      "outputs": []
    },
    {
      "cell_type": "code",
      "metadata": {
        "colab": {
          "base_uri": "https://localhost:8080/"
        },
        "id": "zm-68_KrpQBj",
        "outputId": "b0da54e0-5165-4829-d4dc-44061fd47453"
      },
      "source": [
        "%tensorflow_version 2.x\n",
        "import tensorflow as tf\n",
        "print(\"Tensorflow version \" + tf.__version__)"
      ],
      "execution_count": 2,
      "outputs": [
        {
          "output_type": "stream",
          "text": [
            "Tensorflow version 2.5.0\n"
          ],
          "name": "stdout"
        }
      ]
    },
    {
      "cell_type": "code",
      "metadata": {
        "colab": {
          "base_uri": "https://localhost:8080/"
        },
        "id": "PVAAC9VqpY22",
        "outputId": "c547b4c2-78ee-496f-f380-5ed8a368b91d"
      },
      "source": [
        "# checks if any GPU is present for this notebook or not-\n",
        "\n",
        "device_name = tf.test.gpu_device_name()\n",
        "if device_name != '/device:GPU:0':\n",
        "  raise SystemError('GPU device not found')\n",
        "print('Found GPU at: {}'.format(device_name))"
      ],
      "execution_count": 3,
      "outputs": [
        {
          "output_type": "stream",
          "text": [
            "Found GPU at: /device:GPU:0\n"
          ],
          "name": "stdout"
        }
      ]
    },
    {
      "cell_type": "code",
      "metadata": {
        "colab": {
          "base_uri": "https://localhost:8080/"
        },
        "id": "ktC674sdpaPK",
        "outputId": "4c436db5-113b-45b5-9804-2a147ca26217"
      },
      "source": [
        "# essentially checks the GPU type\n",
        "\n",
        "from tensorflow.python.client import device_lib\n",
        "device_lib.list_local_devices()"
      ],
      "execution_count": 4,
      "outputs": [
        {
          "output_type": "execute_result",
          "data": {
            "text/plain": [
              "[name: \"/device:CPU:0\"\n",
              " device_type: \"CPU\"\n",
              " memory_limit: 268435456\n",
              " locality {\n",
              " }\n",
              " incarnation: 12362792289518130872, name: \"/device:GPU:0\"\n",
              " device_type: \"GPU\"\n",
              " memory_limit: 14509932544\n",
              " locality {\n",
              "   bus_id: 1\n",
              "   links {\n",
              "   }\n",
              " }\n",
              " incarnation: 13135363487127064120\n",
              " physical_device_desc: \"device: 0, name: Tesla T4, pci bus id: 0000:00:04.0, compute capability: 7.5\"]"
            ]
          },
          "metadata": {
            "tags": []
          },
          "execution_count": 4
        }
      ]
    },
    {
      "cell_type": "code",
      "metadata": {
        "id": "Z3FR-0cdparP"
      },
      "source": [
        "# import all the necessary packages\n",
        "\n",
        "import numpy as np\n",
        "import pandas as pd\n",
        "import matplotlib.pyplot as plt\n",
        "from collections import Counter\n",
        "import itertools\n",
        "import warnings\n",
        "warnings.simplefilter(action = 'ignore', category = FutureWarning)\n",
        "%matplotlib inline"
      ],
      "execution_count": 5,
      "outputs": []
    },
    {
      "cell_type": "code",
      "metadata": {
        "colab": {
          "base_uri": "https://localhost:8080/"
        },
        "id": "It-TGGhcpbG8",
        "outputId": "8256f208-934e-4518-8278-6c53b44b0b0f"
      },
      "source": [
        "# mount the google drive to load the necessary files (in the next cell).\n",
        "\n",
        "from google.colab import drive\n",
        "drive.mount('/content/Pdrive')"
      ],
      "execution_count": 6,
      "outputs": [
        {
          "output_type": "stream",
          "text": [
            "Mounted at /content/Pdrive\n"
          ],
          "name": "stdout"
        }
      ]
    },
    {
      "cell_type": "code",
      "metadata": {
        "id": "lxn8tTElpbgg"
      },
      "source": [
        "# Load the train and test data from the NumPy files saved from the first notebook.\n",
        "\n",
        "X_train = np.load('/content/Pdrive/MyDrive/Colab Notebooks/XTrain.npy')\n",
        "\n",
        "X_test = np.load('/content/Pdrive/MyDrive/Colab Notebooks/XTest.npy')\n",
        "\n",
        "y_train = np.load('/content/Pdrive/MyDrive/Colab Notebooks/yTrain.npy')\n",
        "\n",
        "y_test = np.load('/content/Pdrive/MyDrive/Colab Notebooks/yTest.npy')"
      ],
      "execution_count": 7,
      "outputs": []
    },
    {
      "cell_type": "code",
      "metadata": {
        "colab": {
          "base_uri": "https://localhost:8080/"
        },
        "id": "_7g_gvlp0zgE",
        "outputId": "cb33e178-853d-4a54-e3dd-9979f136fd6b"
      },
      "source": [
        "print(X_train.shape)\n",
        "print(X_test.shape)\n",
        "print(y_train.shape)\n",
        "print(y_test.shape)"
      ],
      "execution_count": 8,
      "outputs": [
        {
          "output_type": "stream",
          "text": [
            "(26487, 36, 1)\n",
            "(8828, 36, 1)\n",
            "(26487,)\n",
            "(8828,)\n"
          ],
          "name": "stdout"
        }
      ]
    },
    {
      "cell_type": "code",
      "metadata": {
        "id": "tQ_tTHy4qKyW"
      },
      "source": [
        "# Import all the necessary things for model-training.\n",
        "\n",
        "import keras\n",
        "from tensorflow.keras.models import Sequential\n",
        "from tensorflow.keras.layers import Conv1D, MaxPooling1D, Flatten, Dropout, Dense, Activation\n",
        "from tensorflow.keras.layers import GlobalAveragePooling1D, BatchNormalization, LSTM, Bidirectional\n",
        "from tensorflow.keras.optimizers import Adam\n",
        "from tensorflow.keras.metrics import categorical_crossentropy\n",
        "from tensorflow.keras.regularizers import l1, l2, l1_l2 "
      ],
      "execution_count": 21,
      "outputs": []
    },
    {
      "cell_type": "code",
      "metadata": {
        "id": "JQuWGQA-qOM6"
      },
      "source": [
        "    reg2 = l2(0.01)  # L2 regularizer\n",
        "\n",
        "    model = Sequential()\n",
        "    model.add(Conv1D(filters=128,kernel_size=1, activation=\"relu\", input_shape = (36, 1)))\n",
        "    model.add(Conv1D(filters=128,kernel_size=1, activation=\"relu\"))\n",
        "    model.add(MaxPooling1D(pool_size=1))\n",
        "    model.add(Dropout(0.1))\n",
        "    model.add(Conv1D(filters=128, kernel_size=1, activation=\"relu\"))\n",
        "    model.add(Conv1D(filters=128, kernel_size=1, activation=\"relu\"))\n",
        "    model.add(MaxPooling1D(pool_size=1))\n",
        "    model.add(Dropout(0.1))\n",
        "    model.add(Conv1D(filters=256, kernel_size=1, activation=\"relu\"))\n",
        "    model.add(Conv1D(filters=256, kernel_size=1, activation=\"relu\"))\n",
        "    model.add(MaxPooling1D(pool_size=1))\n",
        "    model.add(Dropout(0.1))\n",
        "    model.add(Conv1D(filters=256, kernel_size=1, activation=\"relu\"))\n",
        "    model.add(Conv1D(filters=256, kernel_size=1, activation=\"relu\"))\n",
        "    model.add(MaxPooling1D(pool_size = 1))\n",
        "    model.add(Dropout(0.1))\n",
        "    model.add(Bidirectional(LSTM(256, return_sequences=True)))\n",
        "    model.add(Dropout(0.1))\n",
        "    model.add(Bidirectional(LSTM(128, return_sequences=True)))\n",
        "    model.add(Dropout(0.1))\n",
        "    model.add(Bidirectional(LSTM(128, return_sequences=True)))\n",
        "    model.add(Dropout(0.1))\n",
        "    model.add(Flatten())\n",
        "    model.add(Dense(units=256,activation=\"relu\", kernel_regularizer = reg2, bias_regularizer = reg2))\n",
        "    model.add(BatchNormalization())\n",
        "    model.add(Dropout(0.2))\n",
        "    model.add(Dense(units=256,activation=\"relu\", kernel_regularizer = reg2, bias_regularizer = reg2))\n",
        "    model.add(BatchNormalization())\n",
        "    model.add(Dropout(0.2))\n",
        "    model.add(Dense(units=10, activation=\"softmax\"))\n",
        "    "
      ],
      "execution_count": 22,
      "outputs": []
    },
    {
      "cell_type": "code",
      "metadata": {
        "colab": {
          "base_uri": "https://localhost:8080/"
        },
        "id": "5DrA924OqTmD",
        "outputId": "04c9f64d-677a-4d2d-b5cc-20bdcf8bda0f"
      },
      "source": [
        "model.summary()"
      ],
      "execution_count": 23,
      "outputs": [
        {
          "output_type": "stream",
          "text": [
            "Model: \"sequential_2\"\n",
            "_________________________________________________________________\n",
            "Layer (type)                 Output Shape              Param #   \n",
            "=================================================================\n",
            "conv1d_16 (Conv1D)           (None, 36, 128)           256       \n",
            "_________________________________________________________________\n",
            "conv1d_17 (Conv1D)           (None, 36, 128)           16512     \n",
            "_________________________________________________________________\n",
            "max_pooling1d_8 (MaxPooling1 (None, 36, 128)           0         \n",
            "_________________________________________________________________\n",
            "dropout_18 (Dropout)         (None, 36, 128)           0         \n",
            "_________________________________________________________________\n",
            "conv1d_18 (Conv1D)           (None, 36, 128)           16512     \n",
            "_________________________________________________________________\n",
            "conv1d_19 (Conv1D)           (None, 36, 128)           16512     \n",
            "_________________________________________________________________\n",
            "max_pooling1d_9 (MaxPooling1 (None, 36, 128)           0         \n",
            "_________________________________________________________________\n",
            "dropout_19 (Dropout)         (None, 36, 128)           0         \n",
            "_________________________________________________________________\n",
            "conv1d_20 (Conv1D)           (None, 36, 256)           33024     \n",
            "_________________________________________________________________\n",
            "conv1d_21 (Conv1D)           (None, 36, 256)           65792     \n",
            "_________________________________________________________________\n",
            "max_pooling1d_10 (MaxPooling (None, 36, 256)           0         \n",
            "_________________________________________________________________\n",
            "dropout_20 (Dropout)         (None, 36, 256)           0         \n",
            "_________________________________________________________________\n",
            "conv1d_22 (Conv1D)           (None, 36, 256)           65792     \n",
            "_________________________________________________________________\n",
            "conv1d_23 (Conv1D)           (None, 36, 256)           65792     \n",
            "_________________________________________________________________\n",
            "max_pooling1d_11 (MaxPooling (None, 36, 256)           0         \n",
            "_________________________________________________________________\n",
            "dropout_21 (Dropout)         (None, 36, 256)           0         \n",
            "_________________________________________________________________\n",
            "bidirectional_6 (Bidirection (None, 36, 512)           1050624   \n",
            "_________________________________________________________________\n",
            "dropout_22 (Dropout)         (None, 36, 512)           0         \n",
            "_________________________________________________________________\n",
            "bidirectional_7 (Bidirection (None, 36, 256)           656384    \n",
            "_________________________________________________________________\n",
            "dropout_23 (Dropout)         (None, 36, 256)           0         \n",
            "_________________________________________________________________\n",
            "bidirectional_8 (Bidirection (None, 36, 256)           394240    \n",
            "_________________________________________________________________\n",
            "dropout_24 (Dropout)         (None, 36, 256)           0         \n",
            "_________________________________________________________________\n",
            "flatten_2 (Flatten)          (None, 9216)              0         \n",
            "_________________________________________________________________\n",
            "dense_6 (Dense)              (None, 256)               2359552   \n",
            "_________________________________________________________________\n",
            "batch_normalization_4 (Batch (None, 256)               1024      \n",
            "_________________________________________________________________\n",
            "dropout_25 (Dropout)         (None, 256)               0         \n",
            "_________________________________________________________________\n",
            "dense_7 (Dense)              (None, 256)               65792     \n",
            "_________________________________________________________________\n",
            "batch_normalization_5 (Batch (None, 256)               1024      \n",
            "_________________________________________________________________\n",
            "dropout_26 (Dropout)         (None, 256)               0         \n",
            "_________________________________________________________________\n",
            "dense_8 (Dense)              (None, 10)                2570      \n",
            "=================================================================\n",
            "Total params: 4,811,402\n",
            "Trainable params: 4,810,378\n",
            "Non-trainable params: 1,024\n",
            "_________________________________________________________________\n"
          ],
          "name": "stdout"
        }
      ]
    },
    {
      "cell_type": "code",
      "metadata": {
        "colab": {
          "base_uri": "https://localhost:8080/"
        },
        "id": "jmOzhY_vqWZy",
        "outputId": "8c5cc1ca-b013-4403-8e3c-c932865c7895"
      },
      "source": [
        "model.compile(optimizer = Adam(learning_rate = 0.0001), loss = 'sparse_categorical_crossentropy', metrics = ['accuracy'])\n",
        "\n",
        "model.fit(x = X_train, y = y_train, batch_size = 128, epochs = 60)"
      ],
      "execution_count": 24,
      "outputs": [
        {
          "output_type": "stream",
          "text": [
            "Epoch 1/60\n",
            "207/207 [==============================] - 17s 43ms/step - loss: 7.8443 - accuracy: 0.3050\n",
            "Epoch 2/60\n",
            "207/207 [==============================] - 9s 43ms/step - loss: 5.4111 - accuracy: 0.4825\n",
            "Epoch 3/60\n",
            "207/207 [==============================] - 9s 43ms/step - loss: 4.0168 - accuracy: 0.5862\n",
            "Epoch 4/60\n",
            "207/207 [==============================] - 9s 43ms/step - loss: 3.1564 - accuracy: 0.6435\n",
            "Epoch 5/60\n",
            "207/207 [==============================] - 9s 44ms/step - loss: 2.5590 - accuracy: 0.6928\n",
            "Epoch 6/60\n",
            "207/207 [==============================] - 9s 45ms/step - loss: 2.1423 - accuracy: 0.7277\n",
            "Epoch 7/60\n",
            "207/207 [==============================] - 9s 45ms/step - loss: 1.8402 - accuracy: 0.7556\n",
            "Epoch 8/60\n",
            "207/207 [==============================] - 9s 46ms/step - loss: 1.6149 - accuracy: 0.7759\n",
            "Epoch 9/60\n",
            "207/207 [==============================] - 9s 46ms/step - loss: 1.4345 - accuracy: 0.7947\n",
            "Epoch 10/60\n",
            "207/207 [==============================] - 9s 45ms/step - loss: 1.2917 - accuracy: 0.8084\n",
            "Epoch 11/60\n",
            "207/207 [==============================] - 9s 45ms/step - loss: 1.1732 - accuracy: 0.8215\n",
            "Epoch 12/60\n",
            "207/207 [==============================] - 9s 44ms/step - loss: 1.0795 - accuracy: 0.8310\n",
            "Epoch 13/60\n",
            "207/207 [==============================] - 9s 44ms/step - loss: 0.9960 - accuracy: 0.8419\n",
            "Epoch 14/60\n",
            "207/207 [==============================] - 9s 44ms/step - loss: 0.9345 - accuracy: 0.8474\n",
            "Epoch 15/60\n",
            "207/207 [==============================] - 9s 45ms/step - loss: 0.8707 - accuracy: 0.8552\n",
            "Epoch 16/60\n",
            "207/207 [==============================] - 9s 45ms/step - loss: 0.8095 - accuracy: 0.8655\n",
            "Epoch 17/60\n",
            "207/207 [==============================] - 9s 46ms/step - loss: 0.7661 - accuracy: 0.8692\n",
            "Epoch 18/60\n",
            "207/207 [==============================] - 9s 46ms/step - loss: 0.7175 - accuracy: 0.8773\n",
            "Epoch 19/60\n",
            "207/207 [==============================] - 9s 46ms/step - loss: 0.6883 - accuracy: 0.8798\n",
            "Epoch 20/60\n",
            "207/207 [==============================] - 9s 46ms/step - loss: 0.6503 - accuracy: 0.8853\n",
            "Epoch 21/60\n",
            "207/207 [==============================] - 9s 45ms/step - loss: 0.6183 - accuracy: 0.8900\n",
            "Epoch 22/60\n",
            "207/207 [==============================] - 9s 45ms/step - loss: 0.5905 - accuracy: 0.8969\n",
            "Epoch 23/60\n",
            "207/207 [==============================] - 9s 45ms/step - loss: 0.5671 - accuracy: 0.8987\n",
            "Epoch 24/60\n",
            "207/207 [==============================] - 9s 45ms/step - loss: 0.5377 - accuracy: 0.9043\n",
            "Epoch 25/60\n",
            "207/207 [==============================] - 9s 45ms/step - loss: 0.5176 - accuracy: 0.9092\n",
            "Epoch 26/60\n",
            "207/207 [==============================] - 9s 45ms/step - loss: 0.4927 - accuracy: 0.9123\n",
            "Epoch 27/60\n",
            "207/207 [==============================] - 9s 45ms/step - loss: 0.4757 - accuracy: 0.9168\n",
            "Epoch 28/60\n",
            "207/207 [==============================] - 9s 45ms/step - loss: 0.4555 - accuracy: 0.9211\n",
            "Epoch 29/60\n",
            "207/207 [==============================] - 9s 45ms/step - loss: 0.4439 - accuracy: 0.9232\n",
            "Epoch 30/60\n",
            "207/207 [==============================] - 9s 45ms/step - loss: 0.4272 - accuracy: 0.9261\n",
            "Epoch 31/60\n",
            "207/207 [==============================] - 9s 45ms/step - loss: 0.4037 - accuracy: 0.9321\n",
            "Epoch 32/60\n",
            "207/207 [==============================] - 9s 45ms/step - loss: 0.3917 - accuracy: 0.9348\n",
            "Epoch 33/60\n",
            "207/207 [==============================] - 9s 45ms/step - loss: 0.3752 - accuracy: 0.9394\n",
            "Epoch 34/60\n",
            "207/207 [==============================] - 9s 45ms/step - loss: 0.3600 - accuracy: 0.9427\n",
            "Epoch 35/60\n",
            "207/207 [==============================] - 9s 45ms/step - loss: 0.3525 - accuracy: 0.9443\n",
            "Epoch 36/60\n",
            "207/207 [==============================] - 9s 45ms/step - loss: 0.3378 - accuracy: 0.9479\n",
            "Epoch 37/60\n",
            "207/207 [==============================] - 9s 45ms/step - loss: 0.3221 - accuracy: 0.9527\n",
            "Epoch 38/60\n",
            "207/207 [==============================] - 9s 45ms/step - loss: 0.3175 - accuracy: 0.9530\n",
            "Epoch 39/60\n",
            "207/207 [==============================] - 9s 45ms/step - loss: 0.3081 - accuracy: 0.9562\n",
            "Epoch 40/60\n",
            "207/207 [==============================] - 9s 45ms/step - loss: 0.2930 - accuracy: 0.9605\n",
            "Epoch 41/60\n",
            "207/207 [==============================] - 9s 45ms/step - loss: 0.2847 - accuracy: 0.9609\n",
            "Epoch 42/60\n",
            "207/207 [==============================] - 9s 45ms/step - loss: 0.2828 - accuracy: 0.9625\n",
            "Epoch 43/60\n",
            "207/207 [==============================] - 9s 45ms/step - loss: 0.2622 - accuracy: 0.9689\n",
            "Epoch 44/60\n",
            "207/207 [==============================] - 9s 45ms/step - loss: 0.2572 - accuracy: 0.9698\n",
            "Epoch 45/60\n",
            "207/207 [==============================] - 9s 45ms/step - loss: 0.2608 - accuracy: 0.9678\n",
            "Epoch 46/60\n",
            "207/207 [==============================] - 9s 45ms/step - loss: 0.2475 - accuracy: 0.9730\n",
            "Epoch 47/60\n",
            "207/207 [==============================] - 9s 45ms/step - loss: 0.2459 - accuracy: 0.9733\n",
            "Epoch 48/60\n",
            "207/207 [==============================] - 9s 46ms/step - loss: 0.2403 - accuracy: 0.9739\n",
            "Epoch 49/60\n",
            "207/207 [==============================] - 9s 45ms/step - loss: 0.2418 - accuracy: 0.9739\n",
            "Epoch 50/60\n",
            "207/207 [==============================] - 9s 45ms/step - loss: 0.2289 - accuracy: 0.9785\n",
            "Epoch 51/60\n",
            "207/207 [==============================] - 9s 45ms/step - loss: 0.2189 - accuracy: 0.9792\n",
            "Epoch 52/60\n",
            "207/207 [==============================] - 9s 45ms/step - loss: 0.2219 - accuracy: 0.9782\n",
            "Epoch 53/60\n",
            "207/207 [==============================] - 9s 45ms/step - loss: 0.2295 - accuracy: 0.9776\n",
            "Epoch 54/60\n",
            "207/207 [==============================] - 9s 45ms/step - loss: 0.2141 - accuracy: 0.9812\n",
            "Epoch 55/60\n",
            "207/207 [==============================] - 9s 45ms/step - loss: 0.2103 - accuracy: 0.9820\n",
            "Epoch 56/60\n",
            "207/207 [==============================] - 9s 45ms/step - loss: 0.2093 - accuracy: 0.9813\n",
            "Epoch 57/60\n",
            "207/207 [==============================] - 9s 45ms/step - loss: 0.2060 - accuracy: 0.9829\n",
            "Epoch 58/60\n",
            "207/207 [==============================] - 9s 45ms/step - loss: 0.2109 - accuracy: 0.9819\n",
            "Epoch 59/60\n",
            "207/207 [==============================] - 9s 45ms/step - loss: 0.2095 - accuracy: 0.9824\n",
            "Epoch 60/60\n",
            "207/207 [==============================] - 9s 45ms/step - loss: 0.1997 - accuracy: 0.9847\n"
          ],
          "name": "stdout"
        },
        {
          "output_type": "execute_result",
          "data": {
            "text/plain": [
              "<tensorflow.python.keras.callbacks.History at 0x7fb4940894d0>"
            ]
          },
          "metadata": {
            "tags": []
          },
          "execution_count": 24
        }
      ]
    },
    {
      "cell_type": "code",
      "metadata": {
        "colab": {
          "base_uri": "https://localhost:8080/"
        },
        "id": "3mpZyJhaqbdZ",
        "outputId": "d5346877-7129-4676-ef2b-a1221e7d01b5"
      },
      "source": [
        "score = model.evaluate(X_test, y_test, batch_size = 128)"
      ],
      "execution_count": 25,
      "outputs": [
        {
          "output_type": "stream",
          "text": [
            "69/69 [==============================] - 3s 18ms/step - loss: 0.3345 - accuracy: 0.9572\n"
          ],
          "name": "stdout"
        }
      ]
    },
    {
      "cell_type": "code",
      "metadata": {
        "colab": {
          "base_uri": "https://localhost:8080/"
        },
        "id": "oEUVNGrNtU6C",
        "outputId": "07d4a67c-57ec-4648-8889-ef9d517d836e"
      },
      "source": [
        "# THE FINAL ACCURACY RESULT OF THE MODEL:\n",
        "\n",
        "print(\"Accuracy: \", round(score[1]*100, 2))"
      ],
      "execution_count": 26,
      "outputs": [
        {
          "output_type": "stream",
          "text": [
            "Accuracy:  95.72\n"
          ],
          "name": "stdout"
        }
      ]
    },
    {
      "cell_type": "code",
      "metadata": {
        "id": "7AVpwCmmtlcx"
      },
      "source": [
        "# y_pred = an array of all the predicted classes or labels.\n",
        "\n",
        "y_pred = np.argmax(model.predict(X_test), axis = -1)"
      ],
      "execution_count": 27,
      "outputs": []
    },
    {
      "cell_type": "code",
      "metadata": {
        "id": "yY0GaCWqeHJ1"
      },
      "source": [
        "# TO FIND THE ACCURACY OF MODEL ON EACH OF THE CLASSES \n",
        "\n",
        "from sklearn.metrics import confusion_matrix\n",
        "\n",
        "cmat = confusion_matrix(y_test, y_pred)    \n",
        "\n",
        "all_acc = cmat.diagonal()/cmat.sum(axis = 1)    # all_acc is an array containing accuracies of the model on each of the classes "
      ],
      "execution_count": 28,
      "outputs": []
    },
    {
      "cell_type": "code",
      "metadata": {
        "colab": {
          "base_uri": "https://localhost:8080/"
        },
        "id": "4gNDZgC8e3rc",
        "outputId": "2f852bf2-4983-4437-c9cb-94091cf31b8a"
      },
      "source": [
        "all_acc"
      ],
      "execution_count": 29,
      "outputs": [
        {
          "output_type": "execute_result",
          "data": {
            "text/plain": [
              "array([1.        , 0.99888889, 0.89437428, 0.99662542, 0.86538462,\n",
              "       1.        , 1.        , 1.        , 0.81664792, 1.        ])"
            ]
          },
          "metadata": {
            "tags": []
          },
          "execution_count": 29
        }
      ]
    },
    {
      "cell_type": "code",
      "metadata": {
        "colab": {
          "base_uri": "https://localhost:8080/"
        },
        "id": "3XzXTnSJfECf",
        "outputId": "ab339101-31f3-4939-ea7c-1a7052181d8f"
      },
      "source": [
        "#PRINT THE APPROXIMATE VALUES OF ACCURACY OF MODEL ON EACH OF THE CLASSES:\n",
        "\n",
        "for i in range(len(all_acc)):\n",
        "  \n",
        "  if(i==0):\n",
        "    temp = 'ALMI'\n",
        "  elif(i==1):\n",
        "    temp = 'AMI'\n",
        "  elif(i==2):\n",
        "    temp = 'ASMI'\n",
        "  elif(i==3):\n",
        "    temp = 'ILMI'\n",
        "  elif(i==4):\n",
        "    temp = 'IMI'\n",
        "  elif(i==5):\n",
        "    temp = 'IPLMI'\n",
        "  elif(i==6):\n",
        "    temp = 'IPMI'\n",
        "  elif(i==7):\n",
        "    temp = 'LMI'\n",
        "  elif(i==8):\n",
        "    temp = 'NORM'\n",
        "  else:\n",
        "    temp = 'PMI'\n",
        "  \n",
        "  print('Accuracy of the model on   ' + temp + ' = ', np.round(all_acc[i]*100, 2))"
      ],
      "execution_count": 30,
      "outputs": [
        {
          "output_type": "stream",
          "text": [
            "Accuracy of the model on   ALMI =  100.0\n",
            "Accuracy of the model on   AMI =  99.89\n",
            "Accuracy of the model on   ASMI =  89.44\n",
            "Accuracy of the model on   ILMI =  99.66\n",
            "Accuracy of the model on   IMI =  86.54\n",
            "Accuracy of the model on   IPLMI =  100.0\n",
            "Accuracy of the model on   IPMI =  100.0\n",
            "Accuracy of the model on   LMI =  100.0\n",
            "Accuracy of the model on   NORM =  81.66\n",
            "Accuracy of the model on   PMI =  100.0\n"
          ],
          "name": "stdout"
        }
      ]
    },
    {
      "cell_type": "code",
      "metadata": {
        "id": "QUcXzLZ7hIQp"
      },
      "source": [
        ""
      ],
      "execution_count": null,
      "outputs": []
    }
  ]
}