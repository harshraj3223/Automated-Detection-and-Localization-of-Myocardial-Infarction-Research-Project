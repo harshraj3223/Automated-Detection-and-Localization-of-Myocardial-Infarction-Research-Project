{
 "cells": [
  {
   "cell_type": "code",
   "execution_count": 1,
   "id": "2ab5ebba",
   "metadata": {},
   "outputs": [],
   "source": [
    "import numpy as np\n",
    "import pandas as pd\n",
    "import matplotlib.pyplot as plt\n",
    "import wfdb\n",
    "from collections import Counter\n",
    "from sklearn.preprocessing import LabelEncoder\n",
    "from imblearn.over_sampling import SMOTENC\n",
    "from sklearn.model_selection import StratifiedKFold\n",
    "from ecgdetectors import Detectors"
   ]
  },
  {
   "cell_type": "code",
   "execution_count": 2,
   "id": "ed2aa352",
   "metadata": {},
   "outputs": [],
   "source": [
    "def collect_and_label(dataset):  # dataset = 'ptbxl_database.csv', function returns dataframe 'df'\n",
    "    \n",
    "    # collect only the MI classes and the NORM classes from the dataset.\n",
    "    df = pd.read_csv(dataset)\n",
    "    alpha = df['scp_codes'].str.split(\"'\").str[1].str[-2:]=='MI'  # collect all the MI classes.\n",
    "    beta = df['scp_codes'].str.split(\"'\").str[1]=='NORM'       # collect all the Normal classes.\n",
    "    df = df[alpha|beta]\n",
    "    df['label'] = df['scp_codes'].str.split(\"'\").str[1]      # create a new column 'label' which would contain categorical labels given to the classes.\n",
    "    \n",
    "    # Taking only 1000 records from each of the classes.\n",
    "    \n",
    "    # The class with label == 'NORM' has more than 4000 instances. So, we need to downsample this class.\n",
    "    # Thus, the number of instances of this will become 4000 thereafter (and they will be chosen randomely).\n",
    "    \n",
    "    inst_c1 = df[df['label'] == 'NORM']\n",
    "    inst_c1 = inst_c1.sample(n = 4000, random_state = 1)\n",
    "    \n",
    "    k0 = (df['label'] == 'LMI')\n",
    "    k1 = (df['label'] == 'AMI')\n",
    "    k2 = (df['label'] == 'ILMI')\n",
    "    k3 = (df['label'] == 'ALMI')\n",
    "    k4 = (df['label'] == 'IPMI')\n",
    "    k5 = (df['label'] == 'IPLMI')\n",
    "    k6 = (df['label'] == 'PMI')\n",
    "    k7 = (df['label'] == 'IMI')\n",
    "    k8 = (df['label'] == 'ASMI')\n",
    "    \n",
    "    inst_m = df[k0|k1|k2|k3|k4|k5|k6|k7|k8]\n",
    "    \n",
    "    df_new = pd.concat([inst_c1, inst_m], ignore_index = True)\n",
    "    df_new = df_new.sample(frac = 1, random_state=42)\n",
    "    \n",
    "    return  df_new"
   ]
  },
  {
   "cell_type": "code",
   "execution_count": 3,
   "id": "65516945",
   "metadata": {},
   "outputs": [
    {
     "data": {
      "text/html": [
       "<div>\n",
       "<style scoped>\n",
       "    .dataframe tbody tr th:only-of-type {\n",
       "        vertical-align: middle;\n",
       "    }\n",
       "\n",
       "    .dataframe tbody tr th {\n",
       "        vertical-align: top;\n",
       "    }\n",
       "\n",
       "    .dataframe thead th {\n",
       "        text-align: right;\n",
       "    }\n",
       "</style>\n",
       "<table border=\"1\" class=\"dataframe\">\n",
       "  <thead>\n",
       "    <tr style=\"text-align: right;\">\n",
       "      <th></th>\n",
       "      <th>ecg_id</th>\n",
       "      <th>patient_id</th>\n",
       "      <th>age</th>\n",
       "      <th>sex</th>\n",
       "      <th>height</th>\n",
       "      <th>weight</th>\n",
       "      <th>nurse</th>\n",
       "      <th>site</th>\n",
       "      <th>device</th>\n",
       "      <th>recording_date</th>\n",
       "      <th>...</th>\n",
       "      <th>baseline_drift</th>\n",
       "      <th>static_noise</th>\n",
       "      <th>burst_noise</th>\n",
       "      <th>electrodes_problems</th>\n",
       "      <th>extra_beats</th>\n",
       "      <th>pacemaker</th>\n",
       "      <th>strat_fold</th>\n",
       "      <th>filename_lr</th>\n",
       "      <th>filename_hr</th>\n",
       "      <th>label</th>\n",
       "    </tr>\n",
       "  </thead>\n",
       "  <tbody>\n",
       "    <tr>\n",
       "      <th>131</th>\n",
       "      <td>16551</td>\n",
       "      <td>4952.0</td>\n",
       "      <td>58.0</td>\n",
       "      <td>0</td>\n",
       "      <td>172.0</td>\n",
       "      <td>60.0</td>\n",
       "      <td>NaN</td>\n",
       "      <td>49.0</td>\n",
       "      <td>AT-6 C 5.5</td>\n",
       "      <td>1996-07-30 12:27:52</td>\n",
       "      <td>...</td>\n",
       "      <td>NaN</td>\n",
       "      <td>NaN</td>\n",
       "      <td>NaN</td>\n",
       "      <td>NaN</td>\n",
       "      <td>NaN</td>\n",
       "      <td>NaN</td>\n",
       "      <td>9</td>\n",
       "      <td>records100/16000/16551_lr</td>\n",
       "      <td>records500/16000/16551_hr</td>\n",
       "      <td>NORM</td>\n",
       "    </tr>\n",
       "    <tr>\n",
       "      <th>6020</th>\n",
       "      <td>9460</td>\n",
       "      <td>13644.0</td>\n",
       "      <td>77.0</td>\n",
       "      <td>1</td>\n",
       "      <td>NaN</td>\n",
       "      <td>NaN</td>\n",
       "      <td>1.0</td>\n",
       "      <td>2.0</td>\n",
       "      <td>CS-12</td>\n",
       "      <td>1992-12-07 10:13:03</td>\n",
       "      <td>...</td>\n",
       "      <td>, V6</td>\n",
       "      <td>NaN</td>\n",
       "      <td>NaN</td>\n",
       "      <td>NaN</td>\n",
       "      <td>NaN</td>\n",
       "      <td>NaN</td>\n",
       "      <td>3</td>\n",
       "      <td>records100/09000/09460_lr</td>\n",
       "      <td>records500/09000/09460_hr</td>\n",
       "      <td>ASMI</td>\n",
       "    </tr>\n",
       "    <tr>\n",
       "      <th>766</th>\n",
       "      <td>6848</td>\n",
       "      <td>10081.0</td>\n",
       "      <td>37.0</td>\n",
       "      <td>1</td>\n",
       "      <td>NaN</td>\n",
       "      <td>NaN</td>\n",
       "      <td>1.0</td>\n",
       "      <td>2.0</td>\n",
       "      <td>CS-12</td>\n",
       "      <td>1991-08-26 09:34:24</td>\n",
       "      <td>...</td>\n",
       "      <td>NaN</td>\n",
       "      <td>, alles,</td>\n",
       "      <td>NaN</td>\n",
       "      <td>NaN</td>\n",
       "      <td>NaN</td>\n",
       "      <td>NaN</td>\n",
       "      <td>5</td>\n",
       "      <td>records100/06000/06848_lr</td>\n",
       "      <td>records500/06000/06848_hr</td>\n",
       "      <td>NORM</td>\n",
       "    </tr>\n",
       "    <tr>\n",
       "      <th>2943</th>\n",
       "      <td>12355</td>\n",
       "      <td>2894.0</td>\n",
       "      <td>69.0</td>\n",
       "      <td>1</td>\n",
       "      <td>168.0</td>\n",
       "      <td>76.0</td>\n",
       "      <td>5.0</td>\n",
       "      <td>1.0</td>\n",
       "      <td>AT-6     6</td>\n",
       "      <td>1994-07-02 15:14:46</td>\n",
       "      <td>...</td>\n",
       "      <td>NaN</td>\n",
       "      <td>NaN</td>\n",
       "      <td>NaN</td>\n",
       "      <td>NaN</td>\n",
       "      <td>NaN</td>\n",
       "      <td>NaN</td>\n",
       "      <td>10</td>\n",
       "      <td>records100/12000/12355_lr</td>\n",
       "      <td>records500/12000/12355_hr</td>\n",
       "      <td>NORM</td>\n",
       "    </tr>\n",
       "    <tr>\n",
       "      <th>1046</th>\n",
       "      <td>944</td>\n",
       "      <td>900.0</td>\n",
       "      <td>67.0</td>\n",
       "      <td>0</td>\n",
       "      <td>174.0</td>\n",
       "      <td>83.0</td>\n",
       "      <td>6.0</td>\n",
       "      <td>1.0</td>\n",
       "      <td>AT-6 C 5.8</td>\n",
       "      <td>1987-07-18 10:51:20</td>\n",
       "      <td>...</td>\n",
       "      <td>NaN</td>\n",
       "      <td>NaN</td>\n",
       "      <td>NaN</td>\n",
       "      <td>NaN</td>\n",
       "      <td>NaN</td>\n",
       "      <td>NaN</td>\n",
       "      <td>7</td>\n",
       "      <td>records100/00000/00944_lr</td>\n",
       "      <td>records500/00000/00944_hr</td>\n",
       "      <td>NORM</td>\n",
       "    </tr>\n",
       "  </tbody>\n",
       "</table>\n",
       "<p>5 rows × 29 columns</p>\n",
       "</div>"
      ],
      "text/plain": [
       "      ecg_id  patient_id   age  sex  height  weight  nurse  site      device  \\\n",
       "131    16551      4952.0  58.0    0   172.0    60.0    NaN  49.0  AT-6 C 5.5   \n",
       "6020    9460     13644.0  77.0    1     NaN     NaN    1.0   2.0       CS-12   \n",
       "766     6848     10081.0  37.0    1     NaN     NaN    1.0   2.0       CS-12   \n",
       "2943   12355      2894.0  69.0    1   168.0    76.0    5.0   1.0  AT-6     6   \n",
       "1046     944       900.0  67.0    0   174.0    83.0    6.0   1.0  AT-6 C 5.8   \n",
       "\n",
       "           recording_date  ... baseline_drift static_noise burst_noise  \\\n",
       "131   1996-07-30 12:27:52  ...            NaN          NaN         NaN   \n",
       "6020  1992-12-07 10:13:03  ...           , V6          NaN         NaN   \n",
       "766   1991-08-26 09:34:24  ...            NaN   , alles,           NaN   \n",
       "2943  1994-07-02 15:14:46  ...            NaN          NaN         NaN   \n",
       "1046  1987-07-18 10:51:20  ...            NaN          NaN         NaN   \n",
       "\n",
       "     electrodes_problems extra_beats  pacemaker  strat_fold  \\\n",
       "131                  NaN         NaN        NaN           9   \n",
       "6020                 NaN         NaN        NaN           3   \n",
       "766                  NaN         NaN        NaN           5   \n",
       "2943                 NaN         NaN        NaN          10   \n",
       "1046                 NaN         NaN        NaN           7   \n",
       "\n",
       "                    filename_lr                filename_hr label  \n",
       "131   records100/16000/16551_lr  records500/16000/16551_hr  NORM  \n",
       "6020  records100/09000/09460_lr  records500/09000/09460_hr  ASMI  \n",
       "766   records100/06000/06848_lr  records500/06000/06848_hr  NORM  \n",
       "2943  records100/12000/12355_lr  records500/12000/12355_hr  NORM  \n",
       "1046  records100/00000/00944_lr  records500/00000/00944_hr  NORM  \n",
       "\n",
       "[5 rows x 29 columns]"
      ]
     },
     "execution_count": 3,
     "metadata": {},
     "output_type": "execute_result"
    }
   ],
   "source": [
    "collect_and_label('ptbxl_database.csv').head()"
   ]
  },
  {
   "cell_type": "code",
   "execution_count": 4,
   "id": "63e5d11d",
   "metadata": {},
   "outputs": [
    {
     "data": {
      "text/plain": [
       "Counter({'NORM': 4000,\n",
       "         'ASMI': 1883,\n",
       "         'IMI': 2329,\n",
       "         'AMI': 290,\n",
       "         'ILMI': 393,\n",
       "         'LMI': 132,\n",
       "         'ALMI': 164,\n",
       "         'IPMI': 30,\n",
       "         'IPLMI': 50,\n",
       "         'PMI': 14})"
      ]
     },
     "execution_count": 4,
     "metadata": {},
     "output_type": "execute_result"
    }
   ],
   "source": [
    "Counter(collect_and_label('ptbxl_database.csv')['label'])\n",
    "#This shows all the classes (with their amount) to classify (So, 10 in our case)."
   ]
  },
  {
   "cell_type": "code",
   "execution_count": 5,
   "id": "dadd2a69",
   "metadata": {},
   "outputs": [
    {
     "data": {
      "text/plain": [
       "<BarContainer object of 10 artists>"
      ]
     },
     "execution_count": 5,
     "metadata": {},
     "output_type": "execute_result"
    },
    {
     "data": {
      "image/png": "[encoded data removed]",
      "text/plain": [
       "<Figure size 432x288 with 1 Axes>"
      ]
     },
     "metadata": {
      "needs_background": "light"
     },
     "output_type": "display_data"
    }
   ],
   "source": [
    "# HISTOGRAM PLOT TO SHOW THE FREQUENCY OF EACH OF THE CLASSES PRESENT IN THE DATASET\n",
    "my_dict = Counter(collect_and_label('ptbxl_database.csv')['label'])\n",
    "keys = my_dict.keys()\n",
    "values = my_dict.values()\n",
    "\n",
    "plt.bar(keys, values)"
   ]
  },
  {
   "cell_type": "code",
   "execution_count": 6,
   "id": "184725cc",
   "metadata": {},
   "outputs": [],
   "source": [
    "def div_and_label(dataframe):   # dataframe = df_new, function returns X and y (labelled).\n",
    "    \n",
    "    # does the one-hot encoding of the labels and assigns them numbers between 0 to 9.\n",
    "    \n",
    "    X = dataframe[['ecg_id', 'filename_hr']]   #using the higher sampling frequency \n",
    "    X = X.to_numpy()\n",
    "    y = dataframe['label']\n",
    "    encoder = LabelEncoder()\n",
    "    encoder.fit(y)\n",
    "    encoded_y = encoder.transform(y)\n",
    "    \n",
    "    return (X, encoded_y)"
   ]
  },
  {
   "cell_type": "code",
   "execution_count": 7,
   "id": "f2ca5077",
   "metadata": {},
   "outputs": [],
   "source": [
    "def balance_dat(X_in, y_in):    # X_in = X, y_in = encoded_y\n",
    "    \n",
    "    # balances the dataset to make each class have 1000 instances.\n",
    "    \n",
    "    smote_nc = SMOTENC(categorical_features=[1], random_state = 0)\n",
    "    X_res, y_res = smote_nc.fit_resample(X_in, y_in)\n",
    "    X_del = np.delete(X_res, 0, 1)\n",
    "    \n",
    "    return (X_del, y_res)"
   ]
  },
  {
   "cell_type": "code",
   "execution_count": 8,
   "id": "c1781a97",
   "metadata": {},
   "outputs": [
    {
     "name": "stdout",
     "output_type": "stream",
     "text": [
      "(40000, 1)\n",
      "(40000,)\n"
     ]
    }
   ],
   "source": [
    "# collecting the values of input and target (obtained so far) in these variables as shown below, for further use.\n",
    "\n",
    "alpha = collect_and_label('ptbxl_database.csv')   # the database file is imported to the jupyter notebook itself.\n",
    "beta0, beta1 = div_and_label(alpha)\n",
    "gamma0, gamma1 = balance_dat(beta0, beta1)\n",
    "\n",
    "print(gamma0.shape)\n",
    "print(gamma1.shape)"
   ]
  },
  {
   "cell_type": "code",
   "execution_count": 9,
   "id": "d1333d88",
   "metadata": {},
   "outputs": [
    {
     "data": {
      "text/plain": [
       "<BarContainer object of 10 artists>"
      ]
     },
     "execution_count": 9,
     "metadata": {},
     "output_type": "execute_result"
    },
    {
     "data": {
      "image/png": "[encoded data removed]",
      "text/plain": [
       "<Figure size 432x288 with 1 Axes>"
      ]
     },
     "metadata": {
      "needs_background": "light"
     },
     "output_type": "display_data"
    }
   ],
   "source": [
    "# HISTOGRAM PLOT TO SHOW THE FREQUENCY OF EACH OF THE CLASSES AFTER THE AUGMENTATION AND BALANCING(OVER SAMPLING)\n",
    "\n",
    "my_dict1 = Counter(gamma1)\n",
    "keys1 = my_dict1.keys()\n",
    "values1 = my_dict1.values()\n",
    "\n",
    "plt.bar(keys1, values1)"
   ]
  },
  {
   "cell_type": "code",
   "execution_count": 10,
   "id": "4a8f631e",
   "metadata": {},
   "outputs": [],
   "source": [
    "def records_tt_split(Xin, yin):   # Xin = gamma0, yin = gamma1\n",
    "    \n",
    "    skf = StratifiedKFold(n_splits=4, shuffle=True, random_state=1)    # 75%-25% split.\n",
    "    \n",
    "    skf.get_n_splits(Xin, yin)\n",
    "    \n",
    "    for train_index, test_index in skf.split(Xin, yin):\n",
    "        X_train, X_test = Xin[train_index], Xin[test_index]\n",
    "        y_train, y_test = yin[train_index], yin[test_index]\n",
    "        \n",
    "    return (X_train, X_test, y_train, y_test)"
   ]
  },
  {
   "cell_type": "code",
   "execution_count": 11,
   "id": "cab1feb2",
   "metadata": {},
   "outputs": [],
   "source": [
    "from scipy import signal\n",
    "import matplotlib.pyplot as plt"
   ]
  },
  {
   "cell_type": "code",
   "execution_count": 12,
   "id": "14879075",
   "metadata": {},
   "outputs": [],
   "source": [
    "# intialize global lists\n",
    "final_list_X = []  # would contain lists of all 36 features extracted from the ECG beats\n",
    "final_list_y = []  # would contain corresponding labels to the beats (0-9)\n",
    "\n",
    "def load_raw_data(feat_inp, targ_inp):\n",
    "    # feat_inp = gamma0, targ_inp = gamma1\n",
    "    \n",
    "    path = r'C:\\Users\\harsh raj\\OneDrive\\Desktop\\Research_Project\\ptb-xl-dataset-1.0.1'\n",
    "    temp = feat_inp\n",
    "    new_arr = np.reshape(temp, temp.shape[0])    # reshaping gamma0 (X_del) to an 1D array to make 'in' command work well.\n",
    "    \n",
    "    record_no = 0\n",
    "    \n",
    "    for f in new_arr:\n",
    "        signal, meta_val = wfdb.rdsamp(path + '/' + f)   # signal.shape = (5000, 12)\n",
    "        value = signal.T\n",
    "        temp_list = []\n",
    "        flag1 = -1\n",
    "        \n",
    "        for ind in range(12):\n",
    "            val_ind = value[ind]\n",
    "            tmpp = val_ind.shape[0]\n",
    "            val_ind = val_ind.reshape(1, tmpp)\n",
    "            val_filtered = filter_data(val_ind)\n",
    "            val_filtered = val_filtered.reshape(val_filtered.shape[1], )  # converting (1, 5000) to (5000, ) i.e., 1-D array\n",
    "            a_var = return_peaks(val_filtered)\n",
    "            \n",
    "            if(a_var == 'INCOMPLETE'):\n",
    "                temp_list = []\n",
    "                flag1 = 1\n",
    "                break\n",
    "            \n",
    "            temp_list.append(a_var[0])\n",
    "            temp_list.append(a_var[1])\n",
    "            temp_list.append(a_var[2])\n",
    "        \n",
    "        \n",
    "        if(flag1 == -1):\n",
    "            final_list_X.append(temp_list)\n",
    "            final_list_y.append(targ_inp[record_no])\n",
    "        \n",
    "        record_no = record_no + 1\n"
   ]
  },
  {
   "cell_type": "code",
   "execution_count": 13,
   "id": "48d8b4a9",
   "metadata": {},
   "outputs": [],
   "source": [
    "def filter_data(val):\n",
    "    \n",
    "    ecg = val \n",
    "    Fs = 500  # sampling frequency of the ECG signal.\n",
    "    N = ecg.shape[1]\n",
    "    t = ((np.linspace(0, N-1, N))/(Fs))\n",
    "    cover = t.shape[0]\n",
    "    t = t.reshape(1, cover)   # t must be of the same shape as xn.\n",
    "    n=2    # order of filter.\n",
    "\n",
    "    Fcutoff_low = 0.5 \n",
    "    Wn_low = ((2*Fcutoff_low)/(Fs))\n",
    "    b_low, a_low = signal.butter(n, Wn_low, 'low')\n",
    "    xn_filtered_LF = signal.filtfilt(b_low, a_low, ecg)\n",
    "\n",
    "    Fcutoff_high = 40 \n",
    "    Wn_high = ((2*Fcutoff_high)/(Fs))\n",
    "    b_high, a_high = signal.butter(n, Wn_high, 'high')\n",
    "    xn_filtered_HF = signal.filtfilt(b_high, a_high, ecg)\n",
    "\n",
    "    xn = (ecg-xn_filtered_HF-xn_filtered_LF)\n",
    "    \n",
    "    return xn"
   ]
  },
  {
   "cell_type": "code",
   "execution_count": 14,
   "id": "58c3cdeb",
   "metadata": {},
   "outputs": [],
   "source": [
    "import neurokit2 as nk\n",
    "import biosppy\n",
    "from statistics import mean"
   ]
  },
  {
   "cell_type": "code",
   "execution_count": 15,
   "id": "b4982500",
   "metadata": {},
   "outputs": [],
   "source": [
    "def return_peaks(ecg_test):\n",
    "    \n",
    "    ''' clean the signal further with the neurokit '''\n",
    "\n",
    "    cleaned = nk.ecg_clean(ecg_test, sampling_rate = 500)  \n",
    "\n",
    "\n",
    "    ''' Detect the R-peaks for that lead '''\n",
    "\n",
    "    rdet, = biosppy.ecg.hamilton_segmenter(signal = cleaned, sampling_rate = 500)   \n",
    "    rdet, = biosppy.ecg.correct_rpeaks(signal = cleaned, rpeaks = rdet, sampling_rate = 500, tol = 0.05)\n",
    "    \n",
    "    if(rdet.size<=4):        # when just 4 or less rpeaks are found, there's no point of considering that whole record at all.\n",
    "        return 'INCOMPLETE'\n",
    "    \n",
    "    rdet = np.delete(rdet, -1)       # remove the last R-peak to avoid the invalid detection for S and T peaks.\n",
    "    rdet = np.delete(rdet, 0)        # remove the first R-peak to avoid the invalid detection for P and Q peaks.\n",
    "    rpeaks = {'ECG_R_Peaks': rdet}    # created this dictionary to use it for the future use.\n",
    "\n",
    "    ''' remove the baseline wander from the ECG lead '''\n",
    "\n",
    "    cleaned_base = nk.signal_detrend(cleaned, order=0)\n",
    "\n",
    "    ''' The features to be extracted are Q-wave amplitude, T-wave amplitude, and ST deviation.\n",
    "                   (a) ST-deviation = (value of cleaned_base at QRS onset - value of cleaned_base at QRS offset).\n",
    "                   (b) T amplitude = value of cleaned_base at the position of T peak.\n",
    "                   (c) Q amplitude = value of cleaned_base at the position of Q peak. '''\n",
    "\n",
    "\n",
    "    ''' ECG delineation using 'dwt' method for (i) T-Peak detection, (ii) QRS wave onsets and offsets: '''\n",
    "\n",
    "    signals, waves = nk.ecg_delineate(cleaned_base, rpeaks, sampling_rate = 500, method = \"dwt\") \n",
    "\n",
    "\n",
    "    ''' ECG delineation using 'peak' method for Q-Peak detection. '''\n",
    "\n",
    "    ''' for the peak detection using 'peak' method, we must have atleast 4 R-Peaks otherwise it shows an\n",
    "     error due to incompatibility and then we won't be able to extract the time domain features. In that case,\n",
    "     either we remove the complete ECG record or we keep on appending the array for the rpeaks (rpeaks['ECG_R_Peaks']) with the \n",
    "     last rpeak position until it's size becomes atleast 4.'''\n",
    "\n",
    "    rpeakss = rpeaks.copy()  #just store the rpeaks in some other variable. .copy() is used to prevent the similar changes in rpeaks\n",
    "    temppo = 4-len(rpeakss['ECG_R_Peaks'])\n",
    "\n",
    "    if temppo>0:\n",
    "\n",
    "        for i in range(temppo):\n",
    "            rpeakss['ECG_R_Peaks'] = np.append(rpeakss['ECG_R_Peaks'], rpeakss['ECG_R_Peaks'][-1] + 1)\n",
    "\n",
    "\n",
    "    signals1, waves1 = nk.ecg_delineate(cleaned_base, rpeakss, sampling_rate = 500, method = \"peak\")\n",
    "\n",
    "    # To get the original Q peaks' positions, we remove the irrelevant ones.\n",
    "    if temppo>0:\n",
    "        for j in range(temppo):\n",
    "            waves1['ECG_Q_Peaks'] = waves1['ECG_Q_Peaks'][:-1] #remove the last element by slicing.(waves1['ECG_Q_Peaks'] is a list)\n",
    "            \n",
    "    list1 = []     # stores all the ST-deviations from all the beats of the input lead. \n",
    "    list2 = []     # stores all the T peaks from all the beats of the input lead.\n",
    "    list3 = []     # stores all the Q peaks from all the beats of the input lead.\n",
    "    \n",
    "    for some1 in range(len(waves['ECG_R_Onsets'])):\n",
    "        if((np.isnan(waves['ECG_R_Onsets'][some1])) or (np.isnan(waves['ECG_R_Offsets'][some1]))):\n",
    "            continue\n",
    "        else:\n",
    "            list1.append(cleaned_base[waves['ECG_R_Onsets'][some1]] - cleaned_base[waves['ECG_R_Offsets'][some1]])\n",
    "            \n",
    "    \n",
    "    for some2 in range(len(waves['ECG_T_Peaks'])):\n",
    "        if(np.isnan(waves['ECG_T_Peaks'][some2])):\n",
    "            continue\n",
    "        else:\n",
    "            list2.append(cleaned_base[waves['ECG_T_Peaks'][some2]])\n",
    "        \n",
    "    \n",
    "    for some3 in range(len(waves1['ECG_Q_Peaks'])):\n",
    "        if(np.isnan(waves1['ECG_Q_Peaks'][some3])):\n",
    "            continue\n",
    "        else:\n",
    "            list3.append(cleaned_base[waves1['ECG_Q_Peaks'][some3]])\n",
    "            \n",
    "    if((len(list1)==0) or (len(list2)==0) or (len(list3)==0)):\n",
    "        return 'INCOMPLETE'\n",
    "    \n",
    "    return (mean(list1), mean(list2), mean(list3))     # return the average values of ST deviations, T peaks, and Q peaks of the input lead."
   ]
  },
  {
   "cell_type": "code",
   "execution_count": 22,
   "id": "62e43716",
   "metadata": {
    "scrolled": false
   },
   "outputs": [
    {
     "data": {
      "text/plain": [
       "{'ECG_T_Peaks': [499,\n",
       "  766,\n",
       "  1030,\n",
       "  1294,\n",
       "  1565,\n",
       "  1834,\n",
       "  2108,\n",
       "  2378,\n",
       "  2645,\n",
       "  2918,\n",
       "  3201,\n",
       "  3478,\n",
       "  3749,\n",
       "  4026,\n",
       "  4302,\n",
       "  4597],\n",
       " 'ECG_T_Onsets': [468,\n",
       "  738,\n",
       "  995,\n",
       "  1261,\n",
       "  1533,\n",
       "  1801,\n",
       "  2081,\n",
       "  2345,\n",
       "  2614,\n",
       "  2884,\n",
       "  3165,\n",
       "  3446,\n",
       "  3715,\n",
       "  3997,\n",
       "  4273,\n",
       "  4565],\n",
       " 'ECG_T_Offsets': [535,\n",
       "  800,\n",
       "  1068,\n",
       "  1329,\n",
       "  1604,\n",
       "  1871,\n",
       "  2145,\n",
       "  2417,\n",
       "  2682,\n",
       "  2953,\n",
       "  3238,\n",
       "  3512,\n",
       "  3788,\n",
       "  4061,\n",
       "  4337,\n",
       "  4639],\n",
       " 'ECG_P_Peaks': [231,\n",
       "  499,\n",
       "  838,\n",
       "  1032,\n",
       "  1294,\n",
       "  1566,\n",
       "  1835,\n",
       "  2186,\n",
       "  2378,\n",
       "  2646,\n",
       "  2919,\n",
       "  3202,\n",
       "  3557,\n",
       "  3834,\n",
       "  4026,\n",
       "  4302],\n",
       " 'ECG_P_Onsets': [186,\n",
       "  462,\n",
       "  826,\n",
       "  992,\n",
       "  1257,\n",
       "  1527,\n",
       "  1798,\n",
       "  2166,\n",
       "  2340,\n",
       "  2610,\n",
       "  2880,\n",
       "  3159,\n",
       "  3541,\n",
       "  3807,\n",
       "  3985,\n",
       "  4259],\n",
       " 'ECG_P_Offsets': [264,\n",
       "  535,\n",
       "  867,\n",
       "  1068,\n",
       "  1329,\n",
       "  1604,\n",
       "  1871,\n",
       "  2215,\n",
       "  2417,\n",
       "  2682,\n",
       "  2953,\n",
       "  3238,\n",
       "  3587,\n",
       "  3869,\n",
       "  4061,\n",
       "  4337],\n",
       " 'ECG_R_Onsets': [363,\n",
       "  578,\n",
       "  916,\n",
       "  1179,\n",
       "  1450,\n",
       "  1648,\n",
       "  1968,\n",
       "  2263,\n",
       "  2531,\n",
       "  2802,\n",
       "  3059,\n",
       "  3332,\n",
       "  3634,\n",
       "  3911,\n",
       "  4187,\n",
       "  4448],\n",
       " 'ECG_R_Offsets': [415,\n",
       "  683,\n",
       "  1025,\n",
       "  1289,\n",
       "  1559,\n",
       "  1751,\n",
       "  2023,\n",
       "  2372,\n",
       "  2644,\n",
       "  nan,\n",
       "  3116,\n",
       "  3393,\n",
       "  3699,\n",
       "  4020,\n",
       "  4295,\n",
       "  4512]}"
      ]
     },
     "execution_count": 22,
     "metadata": {},
     "output_type": "execute_result"
    }
   ],
   "source": [
    "# For an example, the 'waves' obtained from the function return_peaks would look like as shown below.\n",
    "'waves'"
   ]
  },
  {
   "cell_type": "code",
   "execution_count": 23,
   "id": "a6065e41",
   "metadata": {},
   "outputs": [
    {
     "data": {
      "text/plain": [
       "{'ECG_P_Peaks': [309,\n",
       "  576,\n",
       "  912,\n",
       "  1104,\n",
       "  1375,\n",
       "  1645,\n",
       "  nan,\n",
       "  2186,\n",
       "  2458,\n",
       "  2727,\n",
       "  3011,\n",
       "  3283,\n",
       "  3556,\n",
       "  3834,\n",
       "  4107,\n",
       "  4408],\n",
       " 'ECG_Q_Peaks': [345,\n",
       "  620,\n",
       "  931,\n",
       "  1195,\n",
       "  1466,\n",
       "  1679,\n",
       "  1889,\n",
       "  2278,\n",
       "  2546,\n",
       "  2817,\n",
       "  3071,\n",
       "  3343,\n",
       "  3649,\n",
       "  3926,\n",
       "  4202,\n",
       "  4461],\n",
       " 'ECG_S_Peaks': [401,\n",
       "  668,\n",
       "  1077,\n",
       "  1355,\n",
       "  1612,\n",
       "  1736,\n",
       "  2008,\n",
       "  2434,\n",
       "  2699,\n",
       "  2968,\n",
       "  3102,\n",
       "  3378,\n",
       "  3803,\n",
       "  4086,\n",
       "  4384,\n",
       "  4496],\n",
       " 'ECG_T_Peaks': [499,\n",
       "  767,\n",
       "  1104,\n",
       "  1375,\n",
       "  1645,\n",
       "  1836,\n",
       "  2109,\n",
       "  2458,\n",
       "  2727,\n",
       "  3011,\n",
       "  3202,\n",
       "  3480,\n",
       "  3834,\n",
       "  4107,\n",
       "  nan,\n",
       "  4598],\n",
       " 'ECG_P_Onsets': [263,\n",
       "  535,\n",
       "  901,\n",
       "  1081,\n",
       "  1358,\n",
       "  1605,\n",
       "  nan,\n",
       "  2170,\n",
       "  2443,\n",
       "  2707,\n",
       "  2953,\n",
       "  3236,\n",
       "  3542,\n",
       "  3807,\n",
       "  4091,\n",
       "  4394],\n",
       " 'ECG_T_Offsets': [535,\n",
       "  802,\n",
       "  1137,\n",
       "  1401,\n",
       "  1672,\n",
       "  1864,\n",
       "  2144,\n",
       "  2484,\n",
       "  2752,\n",
       "  3023,\n",
       "  3236,\n",
       "  3507,\n",
       "  3855,\n",
       "  4132,\n",
       "  nan,\n",
       "  4643]}"
      ]
     },
     "execution_count": 23,
     "metadata": {},
     "output_type": "execute_result"
    }
   ],
   "source": [
    "# For an example, the 'waves1' obtained from the function return_peaks would look like as shown below.\n",
    "'waves1'"
   ]
  },
  {
   "cell_type": "code",
   "execution_count": 37,
   "id": "236dd865",
   "metadata": {},
   "outputs": [
    {
     "name": "stdout",
     "output_type": "stream",
     "text": [
      "\n"
     ]
    }
   ],
   "source": [
    "# Calling the below function will fill the lists 'final_list_X' and 'final_list_y' => we will get final dataset with beats and\n",
    "# their features extracted.\n",
    "\n",
    "load_raw_data(gamma0, gamma1)   "
   ]
  },
  {
   "cell_type": "code",
   "execution_count": 19,
   "id": "d8810f4e",
   "metadata": {},
   "outputs": [
    {
     "name": "stdout",
     "output_type": "stream",
     "text": [
      "35315\n",
      "35315\n",
      "36\n"
     ]
    }
   ],
   "source": [
    "print(len(final_list_X))\n",
    "print(len(final_list_y))\n",
    "print(len(final_list_X[0]))"
   ]
  },
  {
   "cell_type": "code",
   "execution_count": 20,
   "id": "cd530304",
   "metadata": {},
   "outputs": [
    {
     "data": {
      "text/plain": [
       "Counter({2: 3487,\n",
       "         8: 3553,\n",
       "         4: 3539,\n",
       "         1: 3598,\n",
       "         3: 3555,\n",
       "         7: 3461,\n",
       "         0: 3726,\n",
       "         6: 2896,\n",
       "         5: 3765,\n",
       "         9: 3735})"
      ]
     },
     "execution_count": 20,
     "metadata": {},
     "output_type": "execute_result"
    }
   ],
   "source": [
    "Counter(final_list_y)"
   ]
  },
  {
   "cell_type": "code",
   "execution_count": 21,
   "id": "5fd8ce12",
   "metadata": {},
   "outputs": [
    {
     "data": {
      "text/plain": [
       "<BarContainer object of 10 artists>"
      ]
     },
     "execution_count": 21,
     "metadata": {},
     "output_type": "execute_result"
    },
    {
     "data": {
      "image/png": "[encoded data removed]",
      "text/plain": [
       "<Figure size 432x288 with 1 Axes>"
      ]
     },
     "metadata": {
      "needs_background": "light"
     },
     "output_type": "display_data"
    }
   ],
   "source": [
    "# HISTOGRAM PLOT TO SHOW THE FREQUENCY OF EACH CLASS AFTER EXTRACTING BEATS FROM ECG:\n",
    "\n",
    "my_dict3 = Counter(final_list_y)\n",
    "keys3 = my_dict3.keys()\n",
    "values3 = my_dict3.values()\n",
    "\n",
    "plt.bar(keys3, values3)"
   ]
  },
  {
   "cell_type": "code",
   "execution_count": 26,
   "id": "50bf7be8",
   "metadata": {},
   "outputs": [],
   "source": [
    "df  = pd.DataFrame(columns = ('ST-1', 'T-1', 'Q-1', 'ST-2', 'T-2', 'Q-2', 'ST-3', 'T-3', 'Q-3', 'ST-4', 'T-4', 'Q-4', \n",
    "                              'ST-5', 'T-5', 'Q-5', 'ST-6', 'T-6', 'Q-6', 'ST-7', 'T-7', 'Q-7', 'ST-8', 'T-8', 'Q-8', \n",
    "                             'ST-9', 'T-9', 'Q-9', 'ST-10', 'T-10', 'Q-10', 'ST-11', 'T-11', 'Q-11', 'ST-12', 'T-12', 'Q-12', 'Annotations'))\n"
   ]
  },
  {
   "cell_type": "code",
   "execution_count": 27,
   "id": "b22804f7",
   "metadata": {},
   "outputs": [],
   "source": [
    "dictt = {0:'ALMI', 1:'AMI', 2:'ASMI', 3:'ILMI', 4:'IMI', 5:'IPLMI', 6:'IPMI', 7:'IMI', 8:'NORM', 9:'PMI'}\n",
    "\n",
    "for i in range(len(final_list_X)):\n",
    "    df.loc[i] = final_list_X[i] + [dictt[final_list_y[i]]]\n",
    "\n",
    "path_csv = r'C:\\Users\\harsh raj\\OneDrive\\Desktop'\n",
    "df.to_csv(path_csv + '/' + 'Extracted_Features.csv')"
   ]
  },
  {
   "cell_type": "code",
   "execution_count": 28,
   "id": "b0891e9b",
   "metadata": {},
   "outputs": [],
   "source": [
    "X_train_array = np.array(final_list_X)"
   ]
  },
  {
   "cell_type": "code",
   "execution_count": 29,
   "id": "04803d09",
   "metadata": {},
   "outputs": [],
   "source": [
    "y_train_array = np.array(final_list_y)"
   ]
  },
  {
   "cell_type": "code",
   "execution_count": 30,
   "id": "c377d8a4",
   "metadata": {},
   "outputs": [
    {
     "name": "stdout",
     "output_type": "stream",
     "text": [
      "(35315, 36)\n",
      "(35315,)\n"
     ]
    }
   ],
   "source": [
    "print(X_train_array.shape)\n",
    "print(y_train_array.shape)"
   ]
  },
  {
   "cell_type": "code",
   "execution_count": 31,
   "id": "3b420ef2",
   "metadata": {},
   "outputs": [],
   "source": [
    "# reshape the 2D training array into a 3D array before using neural networks.\n",
    "\n",
    "X_train_array = X_train_array.reshape((X_train_array.shape[0], X_train_array.shape[1], 1))  "
   ]
  },
  {
   "cell_type": "code",
   "execution_count": 32,
   "id": "00d4d30f",
   "metadata": {},
   "outputs": [
    {
     "name": "stdout",
     "output_type": "stream",
     "text": [
      "(35315, 36, 1)\n",
      "(35315,)\n"
     ]
    }
   ],
   "source": [
    "print(X_train_array.shape)\n",
    "print(y_train_array.shape)"
   ]
  },
  {
   "cell_type": "code",
   "execution_count": 33,
   "id": "d103ddaf",
   "metadata": {},
   "outputs": [],
   "source": [
    "X_train, X_test, y_train, y_test = records_tt_split(X_train_array, y_train_array)  # train-test split of the overall data."
   ]
  },
  {
   "cell_type": "code",
   "execution_count": 34,
   "id": "d2485bd3",
   "metadata": {},
   "outputs": [
    {
     "name": "stdout",
     "output_type": "stream",
     "text": [
      "(26487, 36, 1)\n",
      "(8828, 36, 1)\n",
      "(26487,)\n",
      "(8828,)\n"
     ]
    }
   ],
   "source": [
    "print(X_train.shape)\n",
    "print(X_test.shape)\n",
    "print(y_train.shape)\n",
    "print(y_test.shape)"
   ]
  },
  {
   "cell_type": "code",
   "execution_count": 35,
   "id": "063f3e90",
   "metadata": {},
   "outputs": [],
   "source": [
    "# save these training and testing data as .npy files on the desktop.\n",
    "\n",
    "path_to_store = r'C:\\Users\\harsh raj\\OneDrive\\Desktop'\n",
    "\n",
    "np.save(path_to_store + '/' + 'XTrain.npy', X_train)"
   ]
  },
  {
   "cell_type": "code",
   "execution_count": 36,
   "id": "ebce80ac",
   "metadata": {},
   "outputs": [],
   "source": [
    "np.save(path_to_store + '/' + 'XTest.npy', X_test)\n",
    "np.save(path_to_store + '/' + 'yTrain.npy', y_train)\n",
    "np.save(path_to_store + '/' + 'yTest.npy', y_test)"
   ]
  }
 ],
 "metadata": {
  "kernelspec": {
   "display_name": "Python 3",
   "language": "python",
   "name": "python3"
  },
  "language_info": {
   "codemirror_mode": {
    "name": "ipython",
    "version": 3
   },
   "file_extension": ".py",
   "mimetype": "text/x-python",
   "name": "python",
   "nbconvert_exporter": "python",
   "pygments_lexer": "ipython3",
   "version": "3.8.8"
  }
 },
 "nbformat": 4,
 "nbformat_minor": 5
}
