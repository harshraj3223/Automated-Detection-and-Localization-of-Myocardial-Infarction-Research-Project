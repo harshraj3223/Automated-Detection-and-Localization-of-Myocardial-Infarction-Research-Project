{
 "cells": [
  {
   "cell_type": "code",
   "execution_count": 1,
   "id": "2ab5ebba",
   "metadata": {},
   "outputs": [],
   "source": [
    "import numpy as np\n",
    "import pandas as pd\n",
    "import matplotlib.pyplot as plt\n",
    "import wfdb\n",
    "from collections import Counter\n",
    "from sklearn.preprocessing import LabelEncoder\n",
    "from imblearn.over_sampling import SMOTENC\n",
    "from sklearn.model_selection import StratifiedKFold\n",
    "from ecgdetectors import Detectors"
   ]
  },
  {
   "cell_type": "code",
   "execution_count": 2,
   "id": "ed2aa352",
   "metadata": {},
   "outputs": [],
   "source": [
    "def collect_and_label(dataset):  # dataset = 'ptbxl_database.csv', function returns dataframe 'df'\n",
    "    \n",
    "    # collect only the MI classes and the NORM classes from the dataset.\n",
    "    df = pd.read_csv(dataset)\n",
    "    alpha = df['scp_codes'].str.split(\"'\").str[1].str[-2:]=='MI'  # collect all the MI classes.\n",
    "    beta = df['scp_codes'].str.split(\"'\").str[1]=='NORM'       # collect all the Normal classes.\n",
    "    df = df[alpha|beta]\n",
    "    df['label'] = df['scp_codes'].str.split(\"'\").str[1]      # create a new column 'label' which would contain categorical labels given to the classes.\n",
    "    \n",
    "    # Taking only 1000 records from each of the classes.\n",
    "    \n",
    "    # The classes with label == 'NORM', 'IMI', and 'ASMI' have more than 1000 instances. So, we need to downsample these classes.\n",
    "    # Thus, the number of instances of each of these classes will become 1000 (and they will be chosen randomely).\n",
    "    \n",
    "    inst_c1 = df[df['label'] == 'NORM']\n",
    "    inst_c1 = inst_c1.sample(n = 1000, random_state = 1)\n",
    "    \n",
    "    inst_c2 = df[df['label'] == 'IMI']\n",
    "    inst_c2 = inst_c2.sample(n = 1000, random_state = 1)\n",
    "    \n",
    "    inst_c3 = df[df['label'] == 'ASMI']\n",
    "    inst_c3 = inst_c3.sample(n = 1000, random_state = 1)\n",
    "    \n",
    "    k0 = (df['label'] == 'LMI')\n",
    "    k1 = (df['label'] == 'AMI')\n",
    "    k2 = (df['label'] == 'ILMI')\n",
    "    k3 = (df['label'] == 'ALMI')\n",
    "    k4 = (df['label'] == 'IPMI')\n",
    "    k5 = (df['label'] == 'IPLMI')\n",
    "    k6 = (df['label'] == 'PMI')\n",
    "    \n",
    "    inst_m = df[k0|k1|k2|k3|k4|k5|k6]\n",
    "    \n",
    "    df_new = pd.concat([inst_c1, inst_c2, inst_c3, inst_m], ignore_index = True)\n",
    "    df_new = df_new.sample(frac = 1, random_state=42)\n",
    "    \n",
    "    return  df_new"
   ]
  },
  {
   "cell_type": "code",
   "execution_count": 3,
   "id": "65516945",
   "metadata": {},
   "outputs": [
    {
     "data": {
      "text/html": [
       "<div>\n",
       "<style scoped>\n",
       "    .dataframe tbody tr th:only-of-type {\n",
       "        vertical-align: middle;\n",
       "    }\n",
       "\n",
       "    .dataframe tbody tr th {\n",
       "        vertical-align: top;\n",
       "    }\n",
       "\n",
       "    .dataframe thead th {\n",
       "        text-align: right;\n",
       "    }\n",
       "</style>\n",
       "<table border=\"1\" class=\"dataframe\">\n",
       "  <thead>\n",
       "    <tr style=\"text-align: right;\">\n",
       "      <th></th>\n",
       "      <th>ecg_id</th>\n",
       "      <th>patient_id</th>\n",
       "      <th>age</th>\n",
       "      <th>sex</th>\n",
       "      <th>height</th>\n",
       "      <th>weight</th>\n",
       "      <th>nurse</th>\n",
       "      <th>site</th>\n",
       "      <th>device</th>\n",
       "      <th>recording_date</th>\n",
       "      <th>...</th>\n",
       "      <th>baseline_drift</th>\n",
       "      <th>static_noise</th>\n",
       "      <th>burst_noise</th>\n",
       "      <th>electrodes_problems</th>\n",
       "      <th>extra_beats</th>\n",
       "      <th>pacemaker</th>\n",
       "      <th>strat_fold</th>\n",
       "      <th>filename_lr</th>\n",
       "      <th>filename_hr</th>\n",
       "      <th>label</th>\n",
       "    </tr>\n",
       "  </thead>\n",
       "  <tbody>\n",
       "    <tr>\n",
       "      <th>3188</th>\n",
       "      <td>5160</td>\n",
       "      <td>17263.0</td>\n",
       "      <td>37.0</td>\n",
       "      <td>0</td>\n",
       "      <td>NaN</td>\n",
       "      <td>NaN</td>\n",
       "      <td>0.0</td>\n",
       "      <td>0.0</td>\n",
       "      <td>CS100    3</td>\n",
       "      <td>1990-10-13 11:10:18</td>\n",
       "      <td>...</td>\n",
       "      <td>NaN</td>\n",
       "      <td>NaN</td>\n",
       "      <td>NaN</td>\n",
       "      <td>NaN</td>\n",
       "      <td>NaN</td>\n",
       "      <td>NaN</td>\n",
       "      <td>4</td>\n",
       "      <td>records100/05000/05160_lr</td>\n",
       "      <td>records500/05000/05160_hr</td>\n",
       "      <td>LMI</td>\n",
       "    </tr>\n",
       "    <tr>\n",
       "      <th>3570</th>\n",
       "      <td>13150</td>\n",
       "      <td>21435.0</td>\n",
       "      <td>61.0</td>\n",
       "      <td>0</td>\n",
       "      <td>NaN</td>\n",
       "      <td>NaN</td>\n",
       "      <td>0.0</td>\n",
       "      <td>0.0</td>\n",
       "      <td>CS100    3</td>\n",
       "      <td>1994-10-09 10:44:43</td>\n",
       "      <td>...</td>\n",
       "      <td>NaN</td>\n",
       "      <td>, I-AVF,</td>\n",
       "      <td>NaN</td>\n",
       "      <td>NaN</td>\n",
       "      <td>NaN</td>\n",
       "      <td>NaN</td>\n",
       "      <td>2</td>\n",
       "      <td>records100/13000/13150_lr</td>\n",
       "      <td>records500/13000/13150_hr</td>\n",
       "      <td>ILMI</td>\n",
       "    </tr>\n",
       "    <tr>\n",
       "      <th>538</th>\n",
       "      <td>12752</td>\n",
       "      <td>14049.0</td>\n",
       "      <td>56.0</td>\n",
       "      <td>0</td>\n",
       "      <td>NaN</td>\n",
       "      <td>NaN</td>\n",
       "      <td>0.0</td>\n",
       "      <td>0.0</td>\n",
       "      <td>CS100    3</td>\n",
       "      <td>1994-08-10 11:51:22</td>\n",
       "      <td>...</td>\n",
       "      <td>NaN</td>\n",
       "      <td>NaN</td>\n",
       "      <td>NaN</td>\n",
       "      <td>NaN</td>\n",
       "      <td>NaN</td>\n",
       "      <td>NaN</td>\n",
       "      <td>7</td>\n",
       "      <td>records100/12000/12752_lr</td>\n",
       "      <td>records500/12000/12752_hr</td>\n",
       "      <td>NORM</td>\n",
       "    </tr>\n",
       "    <tr>\n",
       "      <th>438</th>\n",
       "      <td>10545</td>\n",
       "      <td>906.0</td>\n",
       "      <td>57.0</td>\n",
       "      <td>1</td>\n",
       "      <td>183.0</td>\n",
       "      <td>86.0</td>\n",
       "      <td>4.0</td>\n",
       "      <td>1.0</td>\n",
       "      <td>AT-6 C 5.8</td>\n",
       "      <td>1993-07-16 12:29:36</td>\n",
       "      <td>...</td>\n",
       "      <td>NaN</td>\n",
       "      <td>NaN</td>\n",
       "      <td>NaN</td>\n",
       "      <td>NaN</td>\n",
       "      <td>NaN</td>\n",
       "      <td>NaN</td>\n",
       "      <td>2</td>\n",
       "      <td>records100/10000/10545_lr</td>\n",
       "      <td>records500/10000/10545_hr</td>\n",
       "      <td>NORM</td>\n",
       "    </tr>\n",
       "    <tr>\n",
       "      <th>1545</th>\n",
       "      <td>19796</td>\n",
       "      <td>20390.0</td>\n",
       "      <td>75.0</td>\n",
       "      <td>0</td>\n",
       "      <td>NaN</td>\n",
       "      <td>NaN</td>\n",
       "      <td>1.0</td>\n",
       "      <td>2.0</td>\n",
       "      <td>CS-12</td>\n",
       "      <td>1998-10-21 10:48:12</td>\n",
       "      <td>...</td>\n",
       "      <td>NaN</td>\n",
       "      <td>, I-AVL,</td>\n",
       "      <td>NaN</td>\n",
       "      <td>NaN</td>\n",
       "      <td>NaN</td>\n",
       "      <td>NaN</td>\n",
       "      <td>9</td>\n",
       "      <td>records100/19000/19796_lr</td>\n",
       "      <td>records500/19000/19796_hr</td>\n",
       "      <td>IMI</td>\n",
       "    </tr>\n",
       "  </tbody>\n",
       "</table>\n",
       "<p>5 rows × 29 columns</p>\n",
       "</div>"
      ],
      "text/plain": [
       "      ecg_id  patient_id   age  sex  height  weight  nurse  site      device  \\\n",
       "3188    5160     17263.0  37.0    0     NaN     NaN    0.0   0.0  CS100    3   \n",
       "3570   13150     21435.0  61.0    0     NaN     NaN    0.0   0.0  CS100    3   \n",
       "538    12752     14049.0  56.0    0     NaN     NaN    0.0   0.0  CS100    3   \n",
       "438    10545       906.0  57.0    1   183.0    86.0    4.0   1.0  AT-6 C 5.8   \n",
       "1545   19796     20390.0  75.0    0     NaN     NaN    1.0   2.0       CS-12   \n",
       "\n",
       "           recording_date  ... baseline_drift static_noise burst_noise  \\\n",
       "3188  1990-10-13 11:10:18  ...            NaN          NaN         NaN   \n",
       "3570  1994-10-09 10:44:43  ...            NaN   , I-AVF,           NaN   \n",
       "538   1994-08-10 11:51:22  ...            NaN          NaN         NaN   \n",
       "438   1993-07-16 12:29:36  ...            NaN          NaN         NaN   \n",
       "1545  1998-10-21 10:48:12  ...            NaN   , I-AVL,           NaN   \n",
       "\n",
       "     electrodes_problems extra_beats  pacemaker  strat_fold  \\\n",
       "3188                 NaN         NaN        NaN           4   \n",
       "3570                 NaN         NaN        NaN           2   \n",
       "538                  NaN         NaN        NaN           7   \n",
       "438                  NaN         NaN        NaN           2   \n",
       "1545                 NaN         NaN        NaN           9   \n",
       "\n",
       "                    filename_lr                filename_hr label  \n",
       "3188  records100/05000/05160_lr  records500/05000/05160_hr   LMI  \n",
       "3570  records100/13000/13150_lr  records500/13000/13150_hr  ILMI  \n",
       "538   records100/12000/12752_lr  records500/12000/12752_hr  NORM  \n",
       "438   records100/10000/10545_lr  records500/10000/10545_hr  NORM  \n",
       "1545  records100/19000/19796_lr  records500/19000/19796_hr   IMI  \n",
       "\n",
       "[5 rows x 29 columns]"
      ]
     },
     "execution_count": 3,
     "metadata": {},
     "output_type": "execute_result"
    }
   ],
   "source": [
    "collect_and_label('ptbxl_database.csv').head()"
   ]
  },
  {
   "cell_type": "code",
   "execution_count": 4,
   "id": "63e5d11d",
   "metadata": {},
   "outputs": [
    {
     "data": {
      "text/plain": [
       "Counter({'LMI': 132,\n",
       "         'ILMI': 393,\n",
       "         'NORM': 1000,\n",
       "         'IMI': 1000,\n",
       "         'ASMI': 1000,\n",
       "         'AMI': 290,\n",
       "         'IPLMI': 50,\n",
       "         'ALMI': 164,\n",
       "         'IPMI': 30,\n",
       "         'PMI': 14})"
      ]
     },
     "execution_count": 4,
     "metadata": {},
     "output_type": "execute_result"
    }
   ],
   "source": [
    "Counter(collect_and_label('ptbxl_database.csv')['label'])\n",
    "#This shows all the classes (with their amount) to classify (So, 10 in our case)."
   ]
  },
  {
   "cell_type": "code",
   "execution_count": 5,
   "id": "dadd2a69",
   "metadata": {},
   "outputs": [
    {
     "data": {
      "text/plain": [
       "<BarContainer object of 10 artists>"
      ]
     },
     "execution_count": 5,
     "metadata": {},
     "output_type": "execute_result"
    },
    {
     "data": {
      "image/png": "[encoded data removed]",
      "text/plain": [
       "<Figure size 432x288 with 1 Axes>"
      ]
     },
     "metadata": {
      "needs_background": "light"
     },
     "output_type": "display_data"
    }
   ],
   "source": [
    "# HISTOGRAM PLOT TO SHOW THE FREQUENCY OF EACH OF THE CLASSES PRESENT IN THE DATASET\n",
    "my_dict = Counter(collect_and_label('ptbxl_database.csv')['label'])\n",
    "keys = my_dict.keys()\n",
    "values = my_dict.values()\n",
    "\n",
    "plt.bar(keys, values)"
   ]
  },
  {
   "cell_type": "code",
   "execution_count": 6,
   "id": "184725cc",
   "metadata": {},
   "outputs": [],
   "source": [
    "def div_and_label(dataframe):   # dataframe = df_new, function returns X and y (labelled).\n",
    "    \n",
    "    # does the one-hot encoding of the labels and assigns them numbers between 0 to 9.\n",
    "    \n",
    "    X = dataframe[['ecg_id', 'filename_hr']]   #using the higher sampling frequency \n",
    "    X = X.to_numpy()\n",
    "    y = dataframe['label']\n",
    "    encoder = LabelEncoder()\n",
    "    encoder.fit(y)\n",
    "    encoded_y = encoder.transform(y)\n",
    "    \n",
    "    return (X, encoded_y)"
   ]
  },
  {
   "cell_type": "code",
   "execution_count": 7,
   "id": "f2ca5077",
   "metadata": {},
   "outputs": [],
   "source": [
    "def balance_dat(X_in, y_in):    # X_in = X, y_in = encoded_y\n",
    "    \n",
    "    # balances the dataset to make each class have 1000 instances.\n",
    "    \n",
    "    smote_nc = SMOTENC(categorical_features=[1], random_state = 0)\n",
    "    X_res, y_res = smote_nc.fit_resample(X_in, y_in)\n",
    "    X_del = np.delete(X_res, 0, 1)\n",
    "    \n",
    "    return (X_del, y_res)"
   ]
  },
  {
   "cell_type": "code",
   "execution_count": 8,
   "id": "c1781a97",
   "metadata": {},
   "outputs": [
    {
     "name": "stdout",
     "output_type": "stream",
     "text": [
      "(10000, 1)\n",
      "(10000,)\n"
     ]
    }
   ],
   "source": [
    "# collecting the values of input and target (obtained so far) in these variables as shown below, for further use.\n",
    "\n",
    "alpha = collect_and_label('ptbxl_database.csv')   # the database file is imported to the jupyter notebook itself.\n",
    "beta0, beta1 = div_and_label(alpha)\n",
    "gamma0, gamma1 = balance_dat(beta0, beta1)\n",
    "\n",
    "print(gamma0.shape)\n",
    "print(gamma1.shape)"
   ]
  },
  {
   "cell_type": "code",
   "execution_count": 9,
   "id": "d1333d88",
   "metadata": {},
   "outputs": [
    {
     "data": {
      "text/plain": [
       "<BarContainer object of 10 artists>"
      ]
     },
     "execution_count": 9,
     "metadata": {},
     "output_type": "execute_result"
    },
    {
     "data": {
      "image/png": "[encoded data removed]",
      "text/plain": [
       "<Figure size 432x288 with 1 Axes>"
      ]
     },
     "metadata": {
      "needs_background": "light"
     },
     "output_type": "display_data"
    }
   ],
   "source": [
    "# HISTOGRAM PLOT TO SHOW THE FREQUENCY OF EACH OF THE CLASSES AFTER THE AUGMENTATION AND BALANCING(OVER SAMPLING)\n",
    "\n",
    "my_dict1 = Counter(gamma1)\n",
    "keys1 = my_dict1.keys()\n",
    "values1 = my_dict1.values()\n",
    "\n",
    "plt.bar(keys1, values1)"
   ]
  },
  {
   "cell_type": "code",
   "execution_count": 10,
   "id": "4a8f631e",
   "metadata": {},
   "outputs": [],
   "source": [
    "def records_tt_split(Xin, yin):   # Xin = gamma0, yin = gamma1\n",
    "    \n",
    "    skf = StratifiedKFold(n_splits=4, shuffle=True, random_state=1)    # 75%-25% split.\n",
    "    \n",
    "    skf.get_n_splits(Xin, yin)\n",
    "    \n",
    "    for train_index, test_index in skf.split(Xin, yin):\n",
    "        X_train, X_test = Xin[train_index], Xin[test_index]\n",
    "        y_train, y_test = yin[train_index], yin[test_index]\n",
    "        \n",
    "    return (X_train, X_test, y_train, y_test)"
   ]
  },
  {
   "cell_type": "code",
   "execution_count": 11,
   "id": "cab1feb2",
   "metadata": {},
   "outputs": [],
   "source": [
    "from scipy import signal\n",
    "import matplotlib.pyplot as plt"
   ]
  },
  {
   "cell_type": "code",
   "execution_count": 12,
   "id": "14879075",
   "metadata": {},
   "outputs": [],
   "source": [
    "# intialize global lists\n",
    "final_list_X = []  # would contain lists of all 36 features extracted from the ECG beats\n",
    "final_list_y = []  # would contain corresponding labels to the beats (0-9)\n",
    "\n",
    "def load_raw_data(feat_inp, targ_inp):\n",
    "    # feat_inp = gamma0, targ_inp = gamma1\n",
    "    \n",
    "    path = r'C:\\Users\\harsh raj\\OneDrive\\Desktop\\ptb-xl-dataset-1.0.1'\n",
    "    temp = feat_inp\n",
    "    new_arr = np.reshape(temp, temp.shape[0])    # reshaping gamma0 (X_del) to an 1D array to make 'in' command work well.\n",
    "    \n",
    "    record_no = 0\n",
    "    \n",
    "    for f in new_arr:\n",
    "        signal, meta_val = wfdb.rdsamp(path + '/' + f)   # signal.shape = (5000, 12)\n",
    "        value = signal.T\n",
    "        temp_list = []\n",
    "        flag1 = -1\n",
    "        \n",
    "        for ind in range(12):\n",
    "            val_ind = value[ind]\n",
    "            tmpp = val_ind.shape[0]\n",
    "            val_ind = val_ind.reshape(1, tmpp)\n",
    "            val_filtered = filter_data(val_ind)\n",
    "            val_filtered = val_filtered.reshape(val_filtered.shape[1], )  # converting (1, 5000) to (5000, ) i.e., 1-D array\n",
    "            a_var = return_peaks(val_filtered)\n",
    "            \n",
    "            if(a_var == 'INCOMPLETE'):\n",
    "                temp_list = []\n",
    "                flag1 = 1\n",
    "                break\n",
    "            \n",
    "            temp_list.append(a_var)\n",
    "        \n",
    "        \n",
    "        if(flag1==-1):\n",
    "            final_data_return(temp_list, targ_inp[record_no])\n",
    "        \n",
    "        record_no = record_no + 1\n"
   ]
  },
  {
   "cell_type": "code",
   "execution_count": 13,
   "id": "48d8b4a9",
   "metadata": {},
   "outputs": [],
   "source": [
    "def filter_data(val):\n",
    "    \n",
    "    ecg = val \n",
    "    Fs = 500  # sampling frequency of the ECG signal.\n",
    "    N = ecg.shape[1]\n",
    "    t = ((np.linspace(0, N-1, N))/(Fs))\n",
    "    cover = t.shape[0]\n",
    "    t = t.reshape(1, cover)   # t must be of the same shape as xn.\n",
    "    n=2    # order of filter.\n",
    "\n",
    "    Fcutoff_low = 0.5 \n",
    "    Wn_low = ((2*Fcutoff_low)/(Fs))\n",
    "    b_low, a_low = signal.butter(n, Wn_low, 'low')\n",
    "    xn_filtered_LF = signal.filtfilt(b_low, a_low, ecg)\n",
    "\n",
    "    Fcutoff_high = 40 \n",
    "    Wn_high = ((2*Fcutoff_high)/(Fs))\n",
    "    b_high, a_high = signal.butter(n, Wn_high, 'high')\n",
    "    xn_filtered_HF = signal.filtfilt(b_high, a_high, ecg)\n",
    "\n",
    "    xn = (ecg-xn_filtered_HF-xn_filtered_LF)\n",
    "    \n",
    "    return xn"
   ]
  },
  {
   "cell_type": "code",
   "execution_count": 14,
   "id": "58c3cdeb",
   "metadata": {},
   "outputs": [],
   "source": [
    "import neurokit2 as nk\n",
    "import biosppy"
   ]
  },
  {
   "cell_type": "code",
   "execution_count": 15,
   "id": "b4982500",
   "metadata": {},
   "outputs": [],
   "source": [
    "def return_peaks(ecg_test):\n",
    "    \n",
    "    ''' clean the signal further with the neurokit '''\n",
    "\n",
    "    cleaned = nk.ecg_clean(ecg_test, sampling_rate = 500)  \n",
    "\n",
    "\n",
    "    ''' Detect the R-peaks for that lead '''\n",
    "\n",
    "    rdet, = biosppy.ecg.hamilton_segmenter(signal = cleaned, sampling_rate = 500)   \n",
    "    rdet, = biosppy.ecg.correct_rpeaks(signal = cleaned, rpeaks = rdet, sampling_rate = 500, tol = 0.05)\n",
    "    \n",
    "    if(rdet.size<=4):        # when just 4 or less rpeaks are found, there's no point of considering that whole record at all.\n",
    "        return 'INCOMPLETE'\n",
    "    \n",
    "    rdet = np.delete(rdet, -1)       # remove the last R-peak to avoid the invalid detection for S and T peaks.\n",
    "    rdet = np.delete(rdet, 0)        # remove the first R-peak to avoid the invalid detection for P and Q peaks.\n",
    "    rpeaks = {'ECG_R_Peaks': rdet}    # created this dictionary to use it for the future use.\n",
    "\n",
    "    ''' remove the baseline wander from the ECG lead '''\n",
    "\n",
    "    cleaned_base = nk.signal_detrend(cleaned, order=0)\n",
    "\n",
    "    ''' The features to be extracted are Q-wave amplitude, T-wave amplitude, and ST deviation.\n",
    "                   (a) ST-deviation = (value of cleaned_base at QRS onset - value of cleaned_base at QRS offset).\n",
    "                   (b) T amplitude = value of cleaned_base at the position of T peak.\n",
    "                   (c) Q amplitude = value of cleaned_base at the position of Q peak. '''\n",
    "\n",
    "\n",
    "    ''' ECG delineation using 'dwt' method for (i) T-Peak detection, (ii) QRS wave onsets and offsets: '''\n",
    "\n",
    "    signals, waves = nk.ecg_delineate(cleaned_base, rpeaks, sampling_rate = 500, method = \"dwt\") \n",
    "\n",
    "\n",
    "    ''' ECG delineation using 'peak' method for Q-Peak detection. '''\n",
    "\n",
    "    ''' for the peak detection using 'peak' method, we must have atleast 4 R-Peaks otherwise it shows an\n",
    "     error due to incompatibility and then we won't be able to extract the time domain features. In that case,\n",
    "     either we remove the complete ECG record or we keep on appending the array for the rpeaks (rpeaks['ECG_R_Peaks']) with the \n",
    "     last rpeak position until it's size becomes atleast 4.'''\n",
    "\n",
    "    rpeakss = rpeaks.copy()  #just store the rpeaks in some other variable. .copy() is used to prevent the similar changes in rpeaks\n",
    "    temppo = 4-len(rpeakss['ECG_R_Peaks'])\n",
    "\n",
    "    if temppo>0:\n",
    "\n",
    "        for i in range(temppo):\n",
    "            rpeakss['ECG_R_Peaks'] = np.append(rpeakss['ECG_R_Peaks'], rpeakss['ECG_R_Peaks'][-1] + 1)\n",
    "\n",
    "\n",
    "    signals1, waves1 = nk.ecg_delineate(cleaned_base, rpeakss, sampling_rate = 500, method = \"peak\")\n",
    "\n",
    "    # To get the original Q peaks' positions, we remove the irrelevant ones.\n",
    "    if temppo>0:\n",
    "        for j in range(temppo):\n",
    "            waves1['ECG_Q_Peaks'] = waves1['ECG_Q_Peaks'][:-1] #remove the last element by slicing.(waves1['ECG_Q_Peaks'] is a list)\n",
    "            \n",
    "    \n",
    "    return (cleaned_base, [waves['ECG_T_Peaks'], waves['ECG_R_Onsets'], waves['ECG_R_Offsets'], waves1['ECG_Q_Peaks']])"
   ]
  },
  {
   "cell_type": "code",
   "execution_count": 74,
   "id": "62e43716",
   "metadata": {
    "scrolled": false
   },
   "outputs": [
    {
     "data": {
      "text/plain": [
       "{'ECG_T_Peaks': [499,\n",
       "  766,\n",
       "  1030,\n",
       "  1294,\n",
       "  1565,\n",
       "  1834,\n",
       "  2108,\n",
       "  2378,\n",
       "  2645,\n",
       "  2918,\n",
       "  3201,\n",
       "  3478,\n",
       "  3749,\n",
       "  4026,\n",
       "  4302,\n",
       "  4597],\n",
       " 'ECG_T_Onsets': [468,\n",
       "  738,\n",
       "  995,\n",
       "  1261,\n",
       "  1533,\n",
       "  1801,\n",
       "  2081,\n",
       "  2345,\n",
       "  2614,\n",
       "  2884,\n",
       "  3165,\n",
       "  3446,\n",
       "  3715,\n",
       "  3997,\n",
       "  4273,\n",
       "  4565],\n",
       " 'ECG_T_Offsets': [535,\n",
       "  800,\n",
       "  1068,\n",
       "  1329,\n",
       "  1604,\n",
       "  1871,\n",
       "  2145,\n",
       "  2417,\n",
       "  2682,\n",
       "  2953,\n",
       "  3238,\n",
       "  3512,\n",
       "  3788,\n",
       "  4061,\n",
       "  4337,\n",
       "  4639],\n",
       " 'ECG_P_Peaks': [231,\n",
       "  499,\n",
       "  838,\n",
       "  1032,\n",
       "  1294,\n",
       "  1566,\n",
       "  1835,\n",
       "  2186,\n",
       "  2378,\n",
       "  2646,\n",
       "  2919,\n",
       "  3202,\n",
       "  3557,\n",
       "  3834,\n",
       "  4026,\n",
       "  4302],\n",
       " 'ECG_P_Onsets': [186,\n",
       "  462,\n",
       "  826,\n",
       "  992,\n",
       "  1257,\n",
       "  1527,\n",
       "  1798,\n",
       "  2166,\n",
       "  2340,\n",
       "  2610,\n",
       "  2880,\n",
       "  3159,\n",
       "  3541,\n",
       "  3807,\n",
       "  3985,\n",
       "  4259],\n",
       " 'ECG_P_Offsets': [264,\n",
       "  535,\n",
       "  867,\n",
       "  1068,\n",
       "  1329,\n",
       "  1604,\n",
       "  1871,\n",
       "  2215,\n",
       "  2417,\n",
       "  2682,\n",
       "  2953,\n",
       "  3238,\n",
       "  3587,\n",
       "  3869,\n",
       "  4061,\n",
       "  4337],\n",
       " 'ECG_R_Onsets': [363,\n",
       "  578,\n",
       "  916,\n",
       "  1179,\n",
       "  1450,\n",
       "  1648,\n",
       "  1968,\n",
       "  2263,\n",
       "  2531,\n",
       "  2802,\n",
       "  3059,\n",
       "  3332,\n",
       "  3634,\n",
       "  3911,\n",
       "  4187,\n",
       "  4448],\n",
       " 'ECG_R_Offsets': [415,\n",
       "  683,\n",
       "  1025,\n",
       "  1289,\n",
       "  1559,\n",
       "  1751,\n",
       "  2023,\n",
       "  2372,\n",
       "  2644,\n",
       "  nan,\n",
       "  3116,\n",
       "  3393,\n",
       "  3699,\n",
       "  4020,\n",
       "  4295,\n",
       "  4512]}"
      ]
     },
     "execution_count": 74,
     "metadata": {},
     "output_type": "execute_result"
    }
   ],
   "source": [
    "# For an example, the 'waves' obtained from the function return_peaks would look like as shown below.\n",
    "\n",
    "'''waves'''"
   ]
  },
  {
   "cell_type": "code",
   "execution_count": 80,
   "id": "a6065e41",
   "metadata": {},
   "outputs": [
    {
     "data": {
      "text/plain": [
       "{'ECG_P_Peaks': [309,\n",
       "  576,\n",
       "  912,\n",
       "  1104,\n",
       "  1375,\n",
       "  1645,\n",
       "  nan,\n",
       "  2186,\n",
       "  2458,\n",
       "  2727,\n",
       "  3011,\n",
       "  3283,\n",
       "  3556,\n",
       "  3834,\n",
       "  4107,\n",
       "  4408],\n",
       " 'ECG_Q_Peaks': [345,\n",
       "  620,\n",
       "  931,\n",
       "  1195,\n",
       "  1466,\n",
       "  1679,\n",
       "  1889,\n",
       "  2278,\n",
       "  2546,\n",
       "  2817,\n",
       "  3071,\n",
       "  3343,\n",
       "  3649,\n",
       "  3926,\n",
       "  4202,\n",
       "  4461],\n",
       " 'ECG_S_Peaks': [401,\n",
       "  668,\n",
       "  1077,\n",
       "  1355,\n",
       "  1612,\n",
       "  1736,\n",
       "  2008,\n",
       "  2434,\n",
       "  2699,\n",
       "  2968,\n",
       "  3102,\n",
       "  3378,\n",
       "  3803,\n",
       "  4086,\n",
       "  4384,\n",
       "  4496],\n",
       " 'ECG_T_Peaks': [499,\n",
       "  767,\n",
       "  1104,\n",
       "  1375,\n",
       "  1645,\n",
       "  1836,\n",
       "  2109,\n",
       "  2458,\n",
       "  2727,\n",
       "  3011,\n",
       "  3202,\n",
       "  3480,\n",
       "  3834,\n",
       "  4107,\n",
       "  nan,\n",
       "  4598],\n",
       " 'ECG_P_Onsets': [263,\n",
       "  535,\n",
       "  901,\n",
       "  1081,\n",
       "  1358,\n",
       "  1605,\n",
       "  nan,\n",
       "  2170,\n",
       "  2443,\n",
       "  2707,\n",
       "  2953,\n",
       "  3236,\n",
       "  3542,\n",
       "  3807,\n",
       "  4091,\n",
       "  4394],\n",
       " 'ECG_T_Offsets': [535,\n",
       "  802,\n",
       "  1137,\n",
       "  1401,\n",
       "  1672,\n",
       "  1864,\n",
       "  2144,\n",
       "  2484,\n",
       "  2752,\n",
       "  3023,\n",
       "  3236,\n",
       "  3507,\n",
       "  3855,\n",
       "  4132,\n",
       "  nan,\n",
       "  4643]}"
      ]
     },
     "execution_count": 80,
     "metadata": {},
     "output_type": "execute_result"
    }
   ],
   "source": [
    "# For an example, the 'waves1' obtained from the function return_peaks would look like as shown below.\n",
    "\n",
    "'''waves1'''"
   ]
  },
  {
   "cell_type": "code",
   "execution_count": 16,
   "id": "e829c8de",
   "metadata": {},
   "outputs": [],
   "source": [
    "def final_data_return(given_list, targ_inp_val):\n",
    "    \n",
    "    '''' This function takes a list of 12 leads of an ECG record after their peak detection and ecg delineation, and extracts out \n",
    "    the ECG beats with 36 morphological features on the basis of the given list'''\n",
    "    \n",
    "    \n",
    "    # The length of all the lists obtained from one lead will be the same, but the length of two lists from two different leads \n",
    "    # may be different. So, we gotta find the minimum sized list, which would give an idea of the number of beats that we can \n",
    "    # keep in our dataset from one record.\n",
    "\n",
    "    mini = 50;    # 'mini' would store the length of the minimum sized list present in the 'given_list'\n",
    "\n",
    "    for check_index3 in range(12):\n",
    "        for second_ind3 in range(4):\n",
    "            mini = min(mini, len(given_list[check_index3][1][second_ind3]))\n",
    "\n",
    "\n",
    "    # we will consider at max 16 beats for one record\n",
    "\n",
    "    to_take = min(16, mini)  # to_take = no. of beats that we'll take from one record.\n",
    "\n",
    "    for x in range(to_take):\n",
    "\n",
    "        a_temp_list = []   # this list will contain the 36 morphological features extracted from a beat of each of the 12 leads.\n",
    "        flag = -1\n",
    "        \n",
    "        for y in range(12):\n",
    "            \n",
    "            # if there is any 'NaN' value in any of the lists, we would ignore that entire corresponding beat. (so, break the loop and proceed for the next beat)\n",
    "            \n",
    "            if((np.isnan(given_list[y][1][1][x])) or (np.isnan(given_list[y][1][2][x])) or (np.isnan(given_list[y][1][3][x])) or (np.isnan(given_list[y][1][0][x]))):\n",
    "                a_temp_list = []\n",
    "                flag = 1\n",
    "                break\n",
    "            \n",
    "            first_feat = given_list[y][0][int(given_list[y][1][1][x])] - given_list[y][0][int(given_list[y][1][2][x])]   # (value of cleaned_base(cleaned ECG signal) at R onset of beat-x - value of cleaned_base at R offset of beat-x).\n",
    "            second_feat = given_list[y][0][int(given_list[y][1][3][x])]   # value of cleaned_base at Q Peak of beat-x (where x is the beat number)\n",
    "            third_feat = given_list[y][0][int(given_list[y][1][0][x])]    # value of cleaned_base at T Peak of beat-x\n",
    "\n",
    "            a_temp_list.append(first_feat)\n",
    "            a_temp_list.append(second_feat)\n",
    "            a_temp_list.append(third_feat)\n",
    "\n",
    "        if(flag == -1):\n",
    "            final_list_X.append(a_temp_list)\n",
    "            final_list_y.append(targ_inp_val)\n"
   ]
  },
  {
   "cell_type": "code",
   "execution_count": 43,
   "id": "236dd865",
   "metadata": {},
   "outputs": [
    {
     "name": "stdout",
     "output_type": "stream",
     "text": [
      "\n"
     ]
    }
   ],
   "source": [
    "# Calling the below function will fill the lists 'final_list_X' and 'final_list_y' => we will get final dataset with beats and\n",
    "# their features extracted.\n",
    "\n",
    "load_raw_data(gamma0, gamma1)   "
   ]
  },
  {
   "cell_type": "code",
   "execution_count": 22,
   "id": "d8810f4e",
   "metadata": {},
   "outputs": [
    {
     "name": "stdout",
     "output_type": "stream",
     "text": [
      "37685\n",
      "37685\n",
      "36\n"
     ]
    }
   ],
   "source": [
    "print(len(final_list_X))\n",
    "print(len(final_list_y))\n",
    "print(len(final_list_X[0]))"
   ]
  },
  {
   "cell_type": "code",
   "execution_count": 21,
   "id": "cd530304",
   "metadata": {},
   "outputs": [
    {
     "data": {
      "text/plain": [
       "Counter({7: 4448,\n",
       "         3: 3951,\n",
       "         8: 3131,\n",
       "         4: 3876,\n",
       "         2: 3188,\n",
       "         1: 3710,\n",
       "         0: 4515,\n",
       "         6: 2979,\n",
       "         5: 3642,\n",
       "         9: 4245})"
      ]
     },
     "execution_count": 21,
     "metadata": {},
     "output_type": "execute_result"
    }
   ],
   "source": [
    "Counter(final_list_y)"
   ]
  },
  {
   "cell_type": "code",
   "execution_count": 23,
   "id": "5fd8ce12",
   "metadata": {},
   "outputs": [
    {
     "data": {
      "text/plain": [
       "<BarContainer object of 10 artists>"
      ]
     },
     "execution_count": 23,
     "metadata": {},
     "output_type": "execute_result"
    },
    {
     "data": {
      "image/png": "[encoded data removed]",
      "text/plain": [
       "<Figure size 432x288 with 1 Axes>"
      ]
     },
     "metadata": {
      "needs_background": "light"
     },
     "output_type": "display_data"
    }
   ],
   "source": [
    "# HISTOGRAM PLOT TO SHOW THE FREQUENCY OF EACH CLASS AFTER EXTRACTING BEATS FROM ECG:\n",
    "\n",
    "my_dict3 = Counter(final_list_y)\n",
    "keys3 = my_dict3.keys()\n",
    "values3 = my_dict3.values()\n",
    "\n",
    "plt.bar(keys3, values3)"
   ]
  },
  {
   "cell_type": "code",
   "execution_count": 24,
   "id": "b0891e9b",
   "metadata": {},
   "outputs": [],
   "source": [
    "X_train_array = np.array(final_list_X)"
   ]
  },
  {
   "cell_type": "code",
   "execution_count": 25,
   "id": "04803d09",
   "metadata": {},
   "outputs": [],
   "source": [
    "y_train_array = np.array(final_list_y)"
   ]
  },
  {
   "cell_type": "code",
   "execution_count": 30,
   "id": "c377d8a4",
   "metadata": {},
   "outputs": [
    {
     "name": "stdout",
     "output_type": "stream",
     "text": [
      "(37685, 36)\n",
      "(37685,)\n"
     ]
    }
   ],
   "source": [
    "print(X_train_array.shape)\n",
    "print(y_train_array.shape)"
   ]
  },
  {
   "cell_type": "code",
   "execution_count": 31,
   "id": "3b420ef2",
   "metadata": {},
   "outputs": [],
   "source": [
    "# reshape the 2D training array into a 3D array before using neural networks.\n",
    "\n",
    "X_train_array = X_train_array.reshape((X_train_array.shape[0], X_train_array.shape[1], 1))  "
   ]
  },
  {
   "cell_type": "code",
   "execution_count": 33,
   "id": "00d4d30f",
   "metadata": {},
   "outputs": [
    {
     "name": "stdout",
     "output_type": "stream",
     "text": [
      "(37685, 36, 1)\n",
      "(37685,)\n"
     ]
    }
   ],
   "source": [
    "print(X_train_array.shape)\n",
    "print(y_train_array.shape)"
   ]
  },
  {
   "cell_type": "code",
   "execution_count": 34,
   "id": "d103ddaf",
   "metadata": {},
   "outputs": [],
   "source": [
    "X_train, X_test, y_train, y_test = records_tt_split(X_train_array, y_train_array)  # train-test split of the overall data."
   ]
  },
  {
   "cell_type": "code",
   "execution_count": 35,
   "id": "d2485bd3",
   "metadata": {},
   "outputs": [
    {
     "name": "stdout",
     "output_type": "stream",
     "text": [
      "(28264, 36, 1)\n",
      "(9421, 36, 1)\n",
      "(28264,)\n",
      "(9421,)\n"
     ]
    }
   ],
   "source": [
    "print(X_train.shape)\n",
    "print(X_test.shape)\n",
    "print(y_train.shape)\n",
    "print(y_test.shape)"
   ]
  },
  {
   "cell_type": "code",
   "execution_count": 37,
   "id": "063f3e90",
   "metadata": {},
   "outputs": [],
   "source": [
    "# save these training and testing data as .npy files on the desktop.\n",
    "\n",
    "path_to_store = r'C:\\Users\\harsh raj\\OneDrive\\Desktop\\Research_Project'\n",
    "\n",
    "np.save(path_to_store + '/' + 'XTrain.npy', X_train)"
   ]
  },
  {
   "cell_type": "code",
   "execution_count": 38,
   "id": "ebce80ac",
   "metadata": {},
   "outputs": [],
   "source": [
    "np.save(path_to_store + '/' + 'XTest.npy', X_test)\n",
    "np.save(path_to_store + '/' + 'yTrain.npy', y_train)\n",
    "np.save(path_to_store + '/' + 'yTest.npy', y_test)"
   ]
  }
 ],
 "metadata": {
  "kernelspec": {
   "display_name": "Python 3",
   "language": "python",
   "name": "python3"
  },
  "language_info": {
   "codemirror_mode": {
    "name": "ipython",
    "version": 3
   },
   "file_extension": ".py",
   "mimetype": "text/x-python",
   "name": "python",
   "nbconvert_exporter": "python",
   "pygments_lexer": "ipython3",
   "version": "3.8.8"
  }
 },
 "nbformat": 4,
 "nbformat_minor": 5
}
